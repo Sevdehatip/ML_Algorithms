{
  "nbformat": 4,
  "nbformat_minor": 0,
  "metadata": {
    "colab": {
      "name": "catBoost.ipynb",
      "provenance": []
    },
    "kernelspec": {
      "name": "python3",
      "display_name": "Python 3"
    }
  },
  "cells": [
    {
      "cell_type": "code",
      "metadata": {
        "id": "eqEwuHRDN-ap",
        "colab_type": "code",
        "outputId": "19b0c893-fd11-4311-9859-6075c9c60c6c",
        "colab": {
          "base_uri": "https://localhost:8080/",
          "height": 71
        }
      },
      "source": [
        "import numpy as np\n",
        "import pandas as pd\n",
        "import statsmodels.api as sm\n",
        "import seaborn as sns\n",
        "from sklearn.model_selection import train_test_split, GridSearchCV, cross_val_score\n",
        "from sklearn.metrics import mean_squared_error, r2_score, confusion_matrix, accuracy_score, roc_auc_score, roc_curve, classification_report\n",
        "import matplotlib.pyplot as plt\n",
        "from sklearn.preprocessing import scale, StandardScaler\n",
        "from sklearn.linear_model import LogisticRegression\n",
        "from sklearn.tree import DecisionTreeClassifier\n",
        "from sklearn.neighbors import KNeighborsClassifier\n",
        "from sklearn.neural_network import MLPClassifier\n",
        "from sklearn.ensemble import RandomForestClassifier\n",
        "from sklearn.ensemble import GradientBoostingClassifier\n",
        "from sklearn.svm import SVC"
      ],
      "execution_count": 1,
      "outputs": [
        {
          "output_type": "stream",
          "text": [
            "/usr/local/lib/python3.6/dist-packages/statsmodels/tools/_testing.py:19: FutureWarning: pandas.util.testing is deprecated. Use the functions in the public API at pandas.testing instead.\n",
            "  import pandas.util.testing as tm\n"
          ],
          "name": "stderr"
        }
      ]
    },
    {
      "cell_type": "code",
      "metadata": {
        "id": "2qvhgQ0wOWvr",
        "colab_type": "code",
        "colab": {}
      },
      "source": [
        "import warnings\n",
        "warnings.filterwarnings(\"ignore\", category=DeprecationWarning)\n",
        "warnings.filterwarnings(\"ignore\", category=FutureWarning)"
      ],
      "execution_count": 0,
      "outputs": []
    },
    {
      "cell_type": "code",
      "metadata": {
        "id": "aPNUnv7ZOY6Q",
        "colab_type": "code",
        "outputId": "d748b9b7-555b-4a8f-cad7-35e1e08a54a2",
        "colab": {
          "resources": {
            "http://localhost:8080/nbextensions/google.colab/files.js": {
              "data": "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",
              "ok": true,
              "headers": [
                [
                  "content-type",
                  "application/javascript"
                ]
              ],
              "status": 200,
              "status_text": ""
            }
          },
          "base_uri": "https://localhost:8080/",
          "height": 74
        }
      },
      "source": [
        "from google.colab import files\n",
        "\n",
        "uploaded = files.upload()"
      ],
      "execution_count": 3,
      "outputs": [
        {
          "output_type": "display_data",
          "data": {
            "text/html": [
              "\n",
              "     <input type=\"file\" id=\"files-a0b85769-ccb7-4ef7-abab-ac4d66aa3c27\" name=\"files[]\" multiple disabled />\n",
              "     <output id=\"result-a0b85769-ccb7-4ef7-abab-ac4d66aa3c27\">\n",
              "      Upload widget is only available when the cell has been executed in the\n",
              "      current browser session. Please rerun this cell to enable.\n",
              "      </output>\n",
              "      <script src=\"/nbextensions/google.colab/files.js\"></script> "
            ],
            "text/plain": [
              "<IPython.core.display.HTML object>"
            ]
          },
          "metadata": {
            "tags": []
          }
        },
        {
          "output_type": "stream",
          "text": [
            "Saving diabetes.csv to diabetes.csv\n"
          ],
          "name": "stdout"
        }
      ]
    },
    {
      "cell_type": "code",
      "metadata": {
        "id": "1ajBJAS0J5pf",
        "colab_type": "code",
        "colab": {}
      },
      "source": [
        "df=pd.read_csv(\"./diabetes.csv\")"
      ],
      "execution_count": 0,
      "outputs": []
    },
    {
      "cell_type": "code",
      "metadata": {
        "id": "myGFiBHdJ85m",
        "colab_type": "code",
        "outputId": "53951a95-32f0-4bfb-eec2-1b0f4cb3a361",
        "colab": {
          "base_uri": "https://localhost:8080/",
          "height": 204
        }
      },
      "source": [
        "df.head()"
      ],
      "execution_count": 5,
      "outputs": [
        {
          "output_type": "execute_result",
          "data": {
            "text/html": [
              "<div>\n",
              "<style scoped>\n",
              "    .dataframe tbody tr th:only-of-type {\n",
              "        vertical-align: middle;\n",
              "    }\n",
              "\n",
              "    .dataframe tbody tr th {\n",
              "        vertical-align: top;\n",
              "    }\n",
              "\n",
              "    .dataframe thead th {\n",
              "        text-align: right;\n",
              "    }\n",
              "</style>\n",
              "<table border=\"1\" class=\"dataframe\">\n",
              "  <thead>\n",
              "    <tr style=\"text-align: right;\">\n",
              "      <th></th>\n",
              "      <th>Pregnancies</th>\n",
              "      <th>Glucose</th>\n",
              "      <th>BloodPressure</th>\n",
              "      <th>SkinThickness</th>\n",
              "      <th>Insulin</th>\n",
              "      <th>BMI</th>\n",
              "      <th>DiabetesPedigreeFunction</th>\n",
              "      <th>Age</th>\n",
              "      <th>Outcome</th>\n",
              "    </tr>\n",
              "  </thead>\n",
              "  <tbody>\n",
              "    <tr>\n",
              "      <th>0</th>\n",
              "      <td>6</td>\n",
              "      <td>148</td>\n",
              "      <td>72</td>\n",
              "      <td>35</td>\n",
              "      <td>0</td>\n",
              "      <td>33.6</td>\n",
              "      <td>0.627</td>\n",
              "      <td>50</td>\n",
              "      <td>1</td>\n",
              "    </tr>\n",
              "    <tr>\n",
              "      <th>1</th>\n",
              "      <td>1</td>\n",
              "      <td>85</td>\n",
              "      <td>66</td>\n",
              "      <td>29</td>\n",
              "      <td>0</td>\n",
              "      <td>26.6</td>\n",
              "      <td>0.351</td>\n",
              "      <td>31</td>\n",
              "      <td>0</td>\n",
              "    </tr>\n",
              "    <tr>\n",
              "      <th>2</th>\n",
              "      <td>8</td>\n",
              "      <td>183</td>\n",
              "      <td>64</td>\n",
              "      <td>0</td>\n",
              "      <td>0</td>\n",
              "      <td>23.3</td>\n",
              "      <td>0.672</td>\n",
              "      <td>32</td>\n",
              "      <td>1</td>\n",
              "    </tr>\n",
              "    <tr>\n",
              "      <th>3</th>\n",
              "      <td>1</td>\n",
              "      <td>89</td>\n",
              "      <td>66</td>\n",
              "      <td>23</td>\n",
              "      <td>94</td>\n",
              "      <td>28.1</td>\n",
              "      <td>0.167</td>\n",
              "      <td>21</td>\n",
              "      <td>0</td>\n",
              "    </tr>\n",
              "    <tr>\n",
              "      <th>4</th>\n",
              "      <td>0</td>\n",
              "      <td>137</td>\n",
              "      <td>40</td>\n",
              "      <td>35</td>\n",
              "      <td>168</td>\n",
              "      <td>43.1</td>\n",
              "      <td>2.288</td>\n",
              "      <td>33</td>\n",
              "      <td>1</td>\n",
              "    </tr>\n",
              "  </tbody>\n",
              "</table>\n",
              "</div>"
            ],
            "text/plain": [
              "   Pregnancies  Glucose  BloodPressure  ...  DiabetesPedigreeFunction  Age  Outcome\n",
              "0            6      148             72  ...                     0.627   50        1\n",
              "1            1       85             66  ...                     0.351   31        0\n",
              "2            8      183             64  ...                     0.672   32        1\n",
              "3            1       89             66  ...                     0.167   21        0\n",
              "4            0      137             40  ...                     2.288   33        1\n",
              "\n",
              "[5 rows x 9 columns]"
            ]
          },
          "metadata": {
            "tags": []
          },
          "execution_count": 5
        }
      ]
    },
    {
      "cell_type": "code",
      "metadata": {
        "id": "gGBCpPp7J_z7",
        "colab_type": "code",
        "colab": {}
      },
      "source": [
        "y=df[\"Outcome\"]\n",
        "X=df.drop([\"Outcome\"], axis=1)\n",
        "X_train, X_test, y_train, y_test=train_test_split(X,\n",
        "                                                  y,\n",
        "                                                  test_size=0.30,\n",
        "                                                  random_state=42)"
      ],
      "execution_count": 0,
      "outputs": []
    },
    {
      "cell_type": "code",
      "metadata": {
        "id": "BaagJaMgWT7c",
        "colab_type": "code",
        "colab": {
          "base_uri": "https://localhost:8080/",
          "height": 343
        },
        "outputId": "15c3ff34-83ba-4ac8-86c3-df4553432182"
      },
      "source": [
        "!pip install catboost"
      ],
      "execution_count": 7,
      "outputs": [
        {
          "output_type": "stream",
          "text": [
            "Collecting catboost\n",
            "\u001b[?25l  Downloading https://files.pythonhosted.org/packages/b1/61/2b8106c8870601671d99ca94d8b8d180f2b740b7cdb95c930147508abcf9/catboost-0.23-cp36-none-manylinux1_x86_64.whl (64.7MB)\n",
            "\u001b[K     |████████████████████████████████| 64.8MB 59kB/s \n",
            "\u001b[?25hRequirement already satisfied: plotly in /usr/local/lib/python3.6/dist-packages (from catboost) (4.4.1)\n",
            "Requirement already satisfied: six in /usr/local/lib/python3.6/dist-packages (from catboost) (1.12.0)\n",
            "Requirement already satisfied: pandas>=0.24.0 in /usr/local/lib/python3.6/dist-packages (from catboost) (1.0.3)\n",
            "Requirement already satisfied: matplotlib in /usr/local/lib/python3.6/dist-packages (from catboost) (3.2.1)\n",
            "Requirement already satisfied: graphviz in /usr/local/lib/python3.6/dist-packages (from catboost) (0.10.1)\n",
            "Requirement already satisfied: numpy>=1.16.0 in /usr/local/lib/python3.6/dist-packages (from catboost) (1.18.3)\n",
            "Requirement already satisfied: scipy in /usr/local/lib/python3.6/dist-packages (from catboost) (1.4.1)\n",
            "Requirement already satisfied: retrying>=1.3.3 in /usr/local/lib/python3.6/dist-packages (from plotly->catboost) (1.3.3)\n",
            "Requirement already satisfied: pytz>=2017.2 in /usr/local/lib/python3.6/dist-packages (from pandas>=0.24.0->catboost) (2018.9)\n",
            "Requirement already satisfied: python-dateutil>=2.6.1 in /usr/local/lib/python3.6/dist-packages (from pandas>=0.24.0->catboost) (2.8.1)\n",
            "Requirement already satisfied: cycler>=0.10 in /usr/local/lib/python3.6/dist-packages (from matplotlib->catboost) (0.10.0)\n",
            "Requirement already satisfied: pyparsing!=2.0.4,!=2.1.2,!=2.1.6,>=2.0.1 in /usr/local/lib/python3.6/dist-packages (from matplotlib->catboost) (2.4.7)\n",
            "Requirement already satisfied: kiwisolver>=1.0.1 in /usr/local/lib/python3.6/dist-packages (from matplotlib->catboost) (1.2.0)\n",
            "Installing collected packages: catboost\n",
            "Successfully installed catboost-0.23\n"
          ],
          "name": "stdout"
        }
      ]
    },
    {
      "cell_type": "code",
      "metadata": {
        "id": "DC2_v6fEWage",
        "colab_type": "code",
        "colab": {}
      },
      "source": [
        "from catboost import CatBoostClassifier"
      ],
      "execution_count": 0,
      "outputs": []
    },
    {
      "cell_type": "code",
      "metadata": {
        "id": "3FlSWE4sWecA",
        "colab_type": "code",
        "colab": {}
      },
      "source": [
        "catb_model=CatBoostClassifier().fit(X_train, y_train, verbose=False)"
      ],
      "execution_count": 0,
      "outputs": []
    },
    {
      "cell_type": "code",
      "metadata": {
        "id": "0oHKgg5-WqsS",
        "colab_type": "code",
        "colab": {
          "base_uri": "https://localhost:8080/",
          "height": 34
        },
        "outputId": "61b5ff36-a8ee-40db-c177-723779771393"
      },
      "source": [
        "y_pred=catb_model.predict(X_test)\n",
        "accuracy_score(y_test, y_pred)"
      ],
      "execution_count": 10,
      "outputs": [
        {
          "output_type": "execute_result",
          "data": {
            "text/plain": [
              "0.7402597402597403"
            ]
          },
          "metadata": {
            "tags": []
          },
          "execution_count": 10
        }
      ]
    },
    {
      "cell_type": "code",
      "metadata": {
        "id": "r1in5aG7Xc7S",
        "colab_type": "code",
        "colab": {}
      },
      "source": [
        "catb=CatBoostClassifier()"
      ],
      "execution_count": 0,
      "outputs": []
    },
    {
      "cell_type": "code",
      "metadata": {
        "id": "vFucPfvuT6uR",
        "colab_type": "code",
        "colab": {}
      },
      "source": [
        "catb_params={\"learning_rate\":[0.01,0.03,0.1],\n",
        "            \"iterations\":[200,500,100],\n",
        "            \"depth\":[4,5,8]}"
      ],
      "execution_count": 0,
      "outputs": []
    },
    {
      "cell_type": "code",
      "metadata": {
        "id": "nSNhgYnmT_z2",
        "colab_type": "code",
        "outputId": "1c23da49-50c6-49ed-def5-fe1860b0e4f7",
        "colab": {
          "base_uri": "https://localhost:8080/",
          "height": 1000
        }
      },
      "source": [
        "catb_cv_model=GridSearchCV(catb, catb_params, cv=5, n_jobs=-1, verbose=2).fit(X_train, y_train)"
      ],
      "execution_count": 15,
      "outputs": [
        {
          "output_type": "stream",
          "text": [
            "Fitting 5 folds for each of 27 candidates, totalling 135 fits\n"
          ],
          "name": "stdout"
        },
        {
          "output_type": "stream",
          "text": [
            "[Parallel(n_jobs=-1)]: Using backend LokyBackend with 2 concurrent workers.\n",
            "[Parallel(n_jobs=-1)]: Done  37 tasks      | elapsed:   12.1s\n",
            "[Parallel(n_jobs=-1)]: Done 135 out of 135 | elapsed:  1.2min finished\n"
          ],
          "name": "stderr"
        },
        {
          "output_type": "stream",
          "text": [
            "0:\tlearn: 0.6730562\ttotal: 5.11ms\tremaining: 1.02s\n",
            "1:\tlearn: 0.6583303\ttotal: 9.08ms\tremaining: 899ms\n",
            "2:\tlearn: 0.6413852\ttotal: 12.9ms\tremaining: 849ms\n",
            "3:\tlearn: 0.6268405\ttotal: 16.7ms\tremaining: 818ms\n",
            "4:\tlearn: 0.6150883\ttotal: 20.6ms\tremaining: 802ms\n",
            "5:\tlearn: 0.5989093\ttotal: 24.3ms\tremaining: 787ms\n",
            "6:\tlearn: 0.5861303\ttotal: 28.1ms\tremaining: 775ms\n",
            "7:\tlearn: 0.5735117\ttotal: 31.8ms\tremaining: 763ms\n",
            "8:\tlearn: 0.5616370\ttotal: 35.6ms\tremaining: 755ms\n",
            "9:\tlearn: 0.5507706\ttotal: 39.2ms\tremaining: 745ms\n",
            "10:\tlearn: 0.5388394\ttotal: 43.1ms\tremaining: 740ms\n",
            "11:\tlearn: 0.5264516\ttotal: 46.7ms\tremaining: 732ms\n",
            "12:\tlearn: 0.5191660\ttotal: 50.4ms\tremaining: 725ms\n",
            "13:\tlearn: 0.5104459\ttotal: 54.1ms\tremaining: 719ms\n",
            "14:\tlearn: 0.5017018\ttotal: 57.7ms\tremaining: 712ms\n",
            "15:\tlearn: 0.4954928\ttotal: 61.4ms\tremaining: 706ms\n",
            "16:\tlearn: 0.4896817\ttotal: 65.1ms\tremaining: 701ms\n",
            "17:\tlearn: 0.4808546\ttotal: 68.8ms\tremaining: 695ms\n",
            "18:\tlearn: 0.4724010\ttotal: 72.6ms\tremaining: 691ms\n",
            "19:\tlearn: 0.4657244\ttotal: 76.6ms\tremaining: 690ms\n",
            "20:\tlearn: 0.4613432\ttotal: 80.3ms\tremaining: 685ms\n",
            "21:\tlearn: 0.4537068\ttotal: 84.1ms\tremaining: 680ms\n",
            "22:\tlearn: 0.4488883\ttotal: 87.7ms\tremaining: 675ms\n",
            "23:\tlearn: 0.4438466\ttotal: 91.4ms\tremaining: 670ms\n",
            "24:\tlearn: 0.4372028\ttotal: 95.2ms\tremaining: 666ms\n",
            "25:\tlearn: 0.4327993\ttotal: 98.8ms\tremaining: 661ms\n",
            "26:\tlearn: 0.4274812\ttotal: 102ms\tremaining: 656ms\n",
            "27:\tlearn: 0.4215002\ttotal: 106ms\tremaining: 652ms\n",
            "28:\tlearn: 0.4161126\ttotal: 110ms\tremaining: 647ms\n",
            "29:\tlearn: 0.4116830\ttotal: 113ms\tremaining: 643ms\n",
            "30:\tlearn: 0.4074000\ttotal: 117ms\tremaining: 639ms\n",
            "31:\tlearn: 0.4012367\ttotal: 121ms\tremaining: 634ms\n",
            "32:\tlearn: 0.3971203\ttotal: 124ms\tremaining: 629ms\n",
            "33:\tlearn: 0.3909248\ttotal: 128ms\tremaining: 624ms\n",
            "34:\tlearn: 0.3868997\ttotal: 131ms\tremaining: 620ms\n",
            "35:\tlearn: 0.3836984\ttotal: 135ms\tremaining: 615ms\n",
            "36:\tlearn: 0.3800295\ttotal: 139ms\tremaining: 611ms\n",
            "37:\tlearn: 0.3768893\ttotal: 142ms\tremaining: 607ms\n",
            "38:\tlearn: 0.3726886\ttotal: 146ms\tremaining: 604ms\n",
            "39:\tlearn: 0.3692111\ttotal: 150ms\tremaining: 600ms\n",
            "40:\tlearn: 0.3656284\ttotal: 154ms\tremaining: 596ms\n",
            "41:\tlearn: 0.3617278\ttotal: 157ms\tremaining: 592ms\n",
            "42:\tlearn: 0.3580843\ttotal: 161ms\tremaining: 589ms\n",
            "43:\tlearn: 0.3556401\ttotal: 165ms\tremaining: 584ms\n",
            "44:\tlearn: 0.3520825\ttotal: 169ms\tremaining: 580ms\n",
            "45:\tlearn: 0.3493779\ttotal: 172ms\tremaining: 577ms\n",
            "46:\tlearn: 0.3456837\ttotal: 176ms\tremaining: 573ms\n",
            "47:\tlearn: 0.3432794\ttotal: 180ms\tremaining: 568ms\n",
            "48:\tlearn: 0.3401259\ttotal: 183ms\tremaining: 565ms\n",
            "49:\tlearn: 0.3353722\ttotal: 193ms\tremaining: 578ms\n",
            "50:\tlearn: 0.3334148\ttotal: 203ms\tremaining: 592ms\n",
            "51:\tlearn: 0.3299847\ttotal: 207ms\tremaining: 588ms\n",
            "52:\tlearn: 0.3280110\ttotal: 210ms\tremaining: 583ms\n",
            "53:\tlearn: 0.3252961\ttotal: 214ms\tremaining: 579ms\n",
            "54:\tlearn: 0.3233621\ttotal: 218ms\tremaining: 574ms\n",
            "55:\tlearn: 0.3207172\ttotal: 221ms\tremaining: 569ms\n",
            "56:\tlearn: 0.3181249\ttotal: 225ms\tremaining: 565ms\n",
            "57:\tlearn: 0.3161254\ttotal: 229ms\tremaining: 560ms\n",
            "58:\tlearn: 0.3140861\ttotal: 243ms\tremaining: 581ms\n",
            "59:\tlearn: 0.3127501\ttotal: 247ms\tremaining: 577ms\n",
            "60:\tlearn: 0.3110175\ttotal: 251ms\tremaining: 572ms\n",
            "61:\tlearn: 0.3082383\ttotal: 255ms\tremaining: 567ms\n",
            "62:\tlearn: 0.3058924\ttotal: 259ms\tremaining: 563ms\n",
            "63:\tlearn: 0.3034503\ttotal: 263ms\tremaining: 558ms\n",
            "64:\tlearn: 0.3007585\ttotal: 266ms\tremaining: 553ms\n",
            "65:\tlearn: 0.2989303\ttotal: 270ms\tremaining: 548ms\n",
            "66:\tlearn: 0.2974695\ttotal: 274ms\tremaining: 543ms\n",
            "67:\tlearn: 0.2952234\ttotal: 277ms\tremaining: 538ms\n",
            "68:\tlearn: 0.2917672\ttotal: 281ms\tremaining: 534ms\n",
            "69:\tlearn: 0.2904015\ttotal: 283ms\tremaining: 525ms\n",
            "70:\tlearn: 0.2882877\ttotal: 286ms\tremaining: 520ms\n",
            "71:\tlearn: 0.2864031\ttotal: 290ms\tremaining: 515ms\n",
            "72:\tlearn: 0.2847410\ttotal: 294ms\tremaining: 511ms\n",
            "73:\tlearn: 0.2831286\ttotal: 297ms\tremaining: 506ms\n",
            "74:\tlearn: 0.2805571\ttotal: 301ms\tremaining: 502ms\n",
            "75:\tlearn: 0.2788848\ttotal: 305ms\tremaining: 497ms\n",
            "76:\tlearn: 0.2761907\ttotal: 308ms\tremaining: 492ms\n",
            "77:\tlearn: 0.2749625\ttotal: 312ms\tremaining: 488ms\n",
            "78:\tlearn: 0.2733984\ttotal: 315ms\tremaining: 483ms\n",
            "79:\tlearn: 0.2723307\ttotal: 319ms\tremaining: 479ms\n",
            "80:\tlearn: 0.2710214\ttotal: 323ms\tremaining: 474ms\n",
            "81:\tlearn: 0.2699080\ttotal: 326ms\tremaining: 469ms\n",
            "82:\tlearn: 0.2683451\ttotal: 330ms\tremaining: 465ms\n",
            "83:\tlearn: 0.2669487\ttotal: 334ms\tremaining: 461ms\n",
            "84:\tlearn: 0.2647716\ttotal: 337ms\tremaining: 456ms\n",
            "85:\tlearn: 0.2634680\ttotal: 341ms\tremaining: 452ms\n",
            "86:\tlearn: 0.2622303\ttotal: 345ms\tremaining: 448ms\n",
            "87:\tlearn: 0.2605533\ttotal: 348ms\tremaining: 443ms\n",
            "88:\tlearn: 0.2595138\ttotal: 352ms\tremaining: 439ms\n",
            "89:\tlearn: 0.2585753\ttotal: 356ms\tremaining: 435ms\n",
            "90:\tlearn: 0.2569455\ttotal: 359ms\tremaining: 431ms\n",
            "91:\tlearn: 0.2560611\ttotal: 363ms\tremaining: 426ms\n",
            "92:\tlearn: 0.2544070\ttotal: 367ms\tremaining: 422ms\n",
            "93:\tlearn: 0.2517868\ttotal: 370ms\tremaining: 418ms\n",
            "94:\tlearn: 0.2507386\ttotal: 374ms\tremaining: 413ms\n",
            "95:\tlearn: 0.2495004\ttotal: 378ms\tremaining: 409ms\n",
            "96:\tlearn: 0.2474200\ttotal: 381ms\tremaining: 405ms\n",
            "97:\tlearn: 0.2461638\ttotal: 385ms\tremaining: 401ms\n",
            "98:\tlearn: 0.2450345\ttotal: 389ms\tremaining: 397ms\n",
            "99:\tlearn: 0.2444111\ttotal: 392ms\tremaining: 392ms\n",
            "100:\tlearn: 0.2437353\ttotal: 399ms\tremaining: 391ms\n",
            "101:\tlearn: 0.2431478\ttotal: 403ms\tremaining: 387ms\n",
            "102:\tlearn: 0.2418609\ttotal: 407ms\tremaining: 383ms\n",
            "103:\tlearn: 0.2410050\ttotal: 410ms\tremaining: 379ms\n",
            "104:\tlearn: 0.2404146\ttotal: 414ms\tremaining: 375ms\n",
            "105:\tlearn: 0.2383649\ttotal: 418ms\tremaining: 371ms\n",
            "106:\tlearn: 0.2375381\ttotal: 424ms\tremaining: 369ms\n",
            "107:\tlearn: 0.2356240\ttotal: 428ms\tremaining: 365ms\n",
            "108:\tlearn: 0.2348428\ttotal: 432ms\tremaining: 361ms\n",
            "109:\tlearn: 0.2339522\ttotal: 435ms\tremaining: 356ms\n",
            "110:\tlearn: 0.2323986\ttotal: 438ms\tremaining: 352ms\n",
            "111:\tlearn: 0.2311732\ttotal: 442ms\tremaining: 347ms\n",
            "112:\tlearn: 0.2300730\ttotal: 446ms\tremaining: 343ms\n",
            "113:\tlearn: 0.2292724\ttotal: 450ms\tremaining: 339ms\n",
            "114:\tlearn: 0.2286512\ttotal: 453ms\tremaining: 335ms\n",
            "115:\tlearn: 0.2267089\ttotal: 457ms\tremaining: 331ms\n",
            "116:\tlearn: 0.2256888\ttotal: 461ms\tremaining: 327ms\n",
            "117:\tlearn: 0.2250617\ttotal: 465ms\tremaining: 323ms\n",
            "118:\tlearn: 0.2242462\ttotal: 468ms\tremaining: 319ms\n",
            "119:\tlearn: 0.2233604\ttotal: 472ms\tremaining: 315ms\n",
            "120:\tlearn: 0.2222975\ttotal: 476ms\tremaining: 311ms\n",
            "121:\tlearn: 0.2217859\ttotal: 480ms\tremaining: 307ms\n",
            "122:\tlearn: 0.2206889\ttotal: 483ms\tremaining: 303ms\n",
            "123:\tlearn: 0.2184409\ttotal: 487ms\tremaining: 299ms\n",
            "124:\tlearn: 0.2175196\ttotal: 491ms\tremaining: 295ms\n",
            "125:\tlearn: 0.2156052\ttotal: 495ms\tremaining: 291ms\n",
            "126:\tlearn: 0.2149540\ttotal: 499ms\tremaining: 287ms\n",
            "127:\tlearn: 0.2133339\ttotal: 503ms\tremaining: 283ms\n",
            "128:\tlearn: 0.2120956\ttotal: 506ms\tremaining: 279ms\n",
            "129:\tlearn: 0.2102807\ttotal: 510ms\tremaining: 275ms\n",
            "130:\tlearn: 0.2091413\ttotal: 514ms\tremaining: 271ms\n",
            "131:\tlearn: 0.2083858\ttotal: 518ms\tremaining: 267ms\n",
            "132:\tlearn: 0.2082139\ttotal: 519ms\tremaining: 262ms\n",
            "133:\tlearn: 0.2075806\ttotal: 523ms\tremaining: 258ms\n",
            "134:\tlearn: 0.2065749\ttotal: 527ms\tremaining: 254ms\n",
            "135:\tlearn: 0.2056529\ttotal: 531ms\tremaining: 250ms\n",
            "136:\tlearn: 0.2050428\ttotal: 534ms\tremaining: 246ms\n",
            "137:\tlearn: 0.2044387\ttotal: 538ms\tremaining: 242ms\n",
            "138:\tlearn: 0.2039460\ttotal: 542ms\tremaining: 238ms\n",
            "139:\tlearn: 0.2023206\ttotal: 545ms\tremaining: 234ms\n",
            "140:\tlearn: 0.2013544\ttotal: 549ms\tremaining: 230ms\n",
            "141:\tlearn: 0.2001691\ttotal: 553ms\tremaining: 226ms\n",
            "142:\tlearn: 0.1991756\ttotal: 556ms\tremaining: 222ms\n",
            "143:\tlearn: 0.1982775\ttotal: 560ms\tremaining: 218ms\n",
            "144:\tlearn: 0.1972000\ttotal: 564ms\tremaining: 214ms\n",
            "145:\tlearn: 0.1954370\ttotal: 567ms\tremaining: 210ms\n",
            "146:\tlearn: 0.1943625\ttotal: 571ms\tremaining: 206ms\n",
            "147:\tlearn: 0.1933603\ttotal: 575ms\tremaining: 202ms\n",
            "148:\tlearn: 0.1923451\ttotal: 579ms\tremaining: 198ms\n",
            "149:\tlearn: 0.1909043\ttotal: 583ms\tremaining: 194ms\n",
            "150:\tlearn: 0.1900798\ttotal: 587ms\tremaining: 190ms\n",
            "151:\tlearn: 0.1896075\ttotal: 597ms\tremaining: 189ms\n",
            "152:\tlearn: 0.1886362\ttotal: 601ms\tremaining: 185ms\n",
            "153:\tlearn: 0.1879743\ttotal: 605ms\tremaining: 181ms\n",
            "154:\tlearn: 0.1872903\ttotal: 609ms\tremaining: 177ms\n",
            "155:\tlearn: 0.1858487\ttotal: 613ms\tremaining: 173ms\n",
            "156:\tlearn: 0.1847557\ttotal: 617ms\tremaining: 169ms\n",
            "157:\tlearn: 0.1834748\ttotal: 621ms\tremaining: 165ms\n",
            "158:\tlearn: 0.1827393\ttotal: 624ms\tremaining: 161ms\n",
            "159:\tlearn: 0.1820029\ttotal: 628ms\tremaining: 157ms\n",
            "160:\tlearn: 0.1814870\ttotal: 632ms\tremaining: 153ms\n",
            "161:\tlearn: 0.1807143\ttotal: 636ms\tremaining: 149ms\n",
            "162:\tlearn: 0.1788792\ttotal: 640ms\tremaining: 145ms\n",
            "163:\tlearn: 0.1781223\ttotal: 644ms\tremaining: 141ms\n",
            "164:\tlearn: 0.1778573\ttotal: 648ms\tremaining: 137ms\n",
            "165:\tlearn: 0.1774994\ttotal: 654ms\tremaining: 134ms\n",
            "166:\tlearn: 0.1766472\ttotal: 662ms\tremaining: 131ms\n",
            "167:\tlearn: 0.1753854\ttotal: 666ms\tremaining: 127ms\n",
            "168:\tlearn: 0.1740620\ttotal: 669ms\tremaining: 123ms\n",
            "169:\tlearn: 0.1731421\ttotal: 673ms\tremaining: 119ms\n",
            "170:\tlearn: 0.1723542\ttotal: 677ms\tremaining: 115ms\n",
            "171:\tlearn: 0.1716360\ttotal: 681ms\tremaining: 111ms\n",
            "172:\tlearn: 0.1705085\ttotal: 685ms\tremaining: 107ms\n",
            "173:\tlearn: 0.1694723\ttotal: 689ms\tremaining: 103ms\n",
            "174:\tlearn: 0.1688626\ttotal: 698ms\tremaining: 99.7ms\n",
            "175:\tlearn: 0.1682950\ttotal: 702ms\tremaining: 95.7ms\n",
            "176:\tlearn: 0.1674069\ttotal: 706ms\tremaining: 91.8ms\n",
            "177:\tlearn: 0.1672303\ttotal: 710ms\tremaining: 87.8ms\n",
            "178:\tlearn: 0.1666822\ttotal: 714ms\tremaining: 83.8ms\n",
            "179:\tlearn: 0.1660508\ttotal: 718ms\tremaining: 79.8ms\n",
            "180:\tlearn: 0.1653085\ttotal: 723ms\tremaining: 75.9ms\n",
            "181:\tlearn: 0.1643963\ttotal: 727ms\tremaining: 71.9ms\n",
            "182:\tlearn: 0.1635574\ttotal: 731ms\tremaining: 67.9ms\n",
            "183:\tlearn: 0.1627505\ttotal: 735ms\tremaining: 63.9ms\n",
            "184:\tlearn: 0.1620530\ttotal: 739ms\tremaining: 59.9ms\n",
            "185:\tlearn: 0.1616087\ttotal: 743ms\tremaining: 55.9ms\n",
            "186:\tlearn: 0.1606996\ttotal: 747ms\tremaining: 51.9ms\n",
            "187:\tlearn: 0.1597629\ttotal: 751ms\tremaining: 48ms\n",
            "188:\tlearn: 0.1590408\ttotal: 756ms\tremaining: 44ms\n",
            "189:\tlearn: 0.1586038\ttotal: 760ms\tremaining: 40ms\n",
            "190:\tlearn: 0.1578480\ttotal: 763ms\tremaining: 36ms\n",
            "191:\tlearn: 0.1571188\ttotal: 767ms\tremaining: 32ms\n",
            "192:\tlearn: 0.1561423\ttotal: 771ms\tremaining: 28ms\n",
            "193:\tlearn: 0.1555195\ttotal: 775ms\tremaining: 24ms\n",
            "194:\tlearn: 0.1541191\ttotal: 779ms\tremaining: 20ms\n",
            "195:\tlearn: 0.1528584\ttotal: 783ms\tremaining: 16ms\n",
            "196:\tlearn: 0.1519591\ttotal: 796ms\tremaining: 12.1ms\n",
            "197:\tlearn: 0.1513487\ttotal: 801ms\tremaining: 8.09ms\n",
            "198:\tlearn: 0.1508775\ttotal: 806ms\tremaining: 4.05ms\n",
            "199:\tlearn: 0.1496718\ttotal: 812ms\tremaining: 0us\n"
          ],
          "name": "stdout"
        }
      ]
    },
    {
      "cell_type": "code",
      "metadata": {
        "id": "jYoAJUZUULny",
        "colab_type": "code",
        "outputId": "57fd4544-4164-48b6-8893-ed3c2e9d28e2",
        "colab": {
          "base_uri": "https://localhost:8080/",
          "height": 34
        }
      },
      "source": [
        "catb_cv_model.best_params_"
      ],
      "execution_count": 16,
      "outputs": [
        {
          "output_type": "execute_result",
          "data": {
            "text/plain": [
              "{'depth': 8, 'iterations': 200, 'learning_rate': 0.03}"
            ]
          },
          "metadata": {
            "tags": []
          },
          "execution_count": 16
        }
      ]
    },
    {
      "cell_type": "code",
      "metadata": {
        "id": "ZA3pzuVkUSzW",
        "colab_type": "code",
        "colab": {
          "base_uri": "https://localhost:8080/",
          "height": 1000
        },
        "outputId": "decd7ed7-5983-44ea-8e21-e07e3a473778"
      },
      "source": [
        "catb_tuned=CatBoostClassifier(learning_rate= 0.03, depth= 8, iterations= 200).fit(X_train, y_train)"
      ],
      "execution_count": 17,
      "outputs": [
        {
          "output_type": "stream",
          "text": [
            "0:\tlearn: 0.6730562\ttotal: 10ms\tremaining: 2s\n",
            "1:\tlearn: 0.6583303\ttotal: 14.2ms\tremaining: 1.4s\n",
            "2:\tlearn: 0.6413852\ttotal: 18.1ms\tremaining: 1.19s\n",
            "3:\tlearn: 0.6268405\ttotal: 21.9ms\tremaining: 1.07s\n",
            "4:\tlearn: 0.6150883\ttotal: 25.8ms\tremaining: 1s\n",
            "5:\tlearn: 0.5989093\ttotal: 29.6ms\tremaining: 957ms\n",
            "6:\tlearn: 0.5861303\ttotal: 33.4ms\tremaining: 920ms\n",
            "7:\tlearn: 0.5735117\ttotal: 37.5ms\tremaining: 901ms\n",
            "8:\tlearn: 0.5616370\ttotal: 41.4ms\tremaining: 879ms\n",
            "9:\tlearn: 0.5507706\ttotal: 45.4ms\tremaining: 862ms\n",
            "10:\tlearn: 0.5388394\ttotal: 49.5ms\tremaining: 850ms\n",
            "11:\tlearn: 0.5264516\ttotal: 53.8ms\tremaining: 843ms\n",
            "12:\tlearn: 0.5191660\ttotal: 58.1ms\tremaining: 835ms\n",
            "13:\tlearn: 0.5104459\ttotal: 62.5ms\tremaining: 830ms\n",
            "14:\tlearn: 0.5017018\ttotal: 66.4ms\tremaining: 819ms\n",
            "15:\tlearn: 0.4954928\ttotal: 70.2ms\tremaining: 808ms\n",
            "16:\tlearn: 0.4896817\ttotal: 74.1ms\tremaining: 798ms\n",
            "17:\tlearn: 0.4808546\ttotal: 78ms\tremaining: 789ms\n",
            "18:\tlearn: 0.4724010\ttotal: 82ms\tremaining: 781ms\n",
            "19:\tlearn: 0.4657244\ttotal: 86ms\tremaining: 774ms\n",
            "20:\tlearn: 0.4613432\ttotal: 89.9ms\tremaining: 767ms\n",
            "21:\tlearn: 0.4537068\ttotal: 93.7ms\tremaining: 758ms\n",
            "22:\tlearn: 0.4488883\ttotal: 97.6ms\tremaining: 751ms\n",
            "23:\tlearn: 0.4438466\ttotal: 102ms\tremaining: 744ms\n",
            "24:\tlearn: 0.4372028\ttotal: 105ms\tremaining: 737ms\n",
            "25:\tlearn: 0.4327993\ttotal: 110ms\tremaining: 733ms\n",
            "26:\tlearn: 0.4274812\ttotal: 114ms\tremaining: 727ms\n",
            "27:\tlearn: 0.4215002\ttotal: 117ms\tremaining: 721ms\n",
            "28:\tlearn: 0.4161126\ttotal: 121ms\tremaining: 715ms\n",
            "29:\tlearn: 0.4116830\ttotal: 125ms\tremaining: 709ms\n",
            "30:\tlearn: 0.4074000\ttotal: 129ms\tremaining: 704ms\n",
            "31:\tlearn: 0.4012367\ttotal: 133ms\tremaining: 698ms\n",
            "32:\tlearn: 0.3971203\ttotal: 137ms\tremaining: 693ms\n",
            "33:\tlearn: 0.3909248\ttotal: 141ms\tremaining: 687ms\n",
            "34:\tlearn: 0.3868997\ttotal: 145ms\tremaining: 682ms\n",
            "35:\tlearn: 0.3836984\ttotal: 148ms\tremaining: 676ms\n",
            "36:\tlearn: 0.3800295\ttotal: 152ms\tremaining: 671ms\n",
            "37:\tlearn: 0.3768893\ttotal: 156ms\tremaining: 666ms\n",
            "38:\tlearn: 0.3726886\ttotal: 160ms\tremaining: 661ms\n",
            "39:\tlearn: 0.3692111\ttotal: 164ms\tremaining: 657ms\n",
            "40:\tlearn: 0.3656284\ttotal: 168ms\tremaining: 653ms\n",
            "41:\tlearn: 0.3617278\ttotal: 173ms\tremaining: 649ms\n",
            "42:\tlearn: 0.3580843\ttotal: 177ms\tremaining: 645ms\n",
            "43:\tlearn: 0.3556401\ttotal: 181ms\tremaining: 640ms\n",
            "44:\tlearn: 0.3520825\ttotal: 185ms\tremaining: 636ms\n",
            "45:\tlearn: 0.3493779\ttotal: 188ms\tremaining: 631ms\n",
            "46:\tlearn: 0.3456837\ttotal: 192ms\tremaining: 626ms\n",
            "47:\tlearn: 0.3432794\ttotal: 196ms\tremaining: 622ms\n",
            "48:\tlearn: 0.3401259\ttotal: 201ms\tremaining: 620ms\n",
            "49:\tlearn: 0.3353722\ttotal: 207ms\tremaining: 621ms\n",
            "50:\tlearn: 0.3334148\ttotal: 211ms\tremaining: 617ms\n",
            "51:\tlearn: 0.3299847\ttotal: 215ms\tremaining: 613ms\n",
            "52:\tlearn: 0.3280110\ttotal: 219ms\tremaining: 608ms\n",
            "53:\tlearn: 0.3252961\ttotal: 223ms\tremaining: 603ms\n",
            "54:\tlearn: 0.3233621\ttotal: 227ms\tremaining: 599ms\n",
            "55:\tlearn: 0.3207172\ttotal: 231ms\tremaining: 595ms\n",
            "56:\tlearn: 0.3181249\ttotal: 236ms\tremaining: 593ms\n",
            "57:\tlearn: 0.3161254\ttotal: 240ms\tremaining: 589ms\n",
            "58:\tlearn: 0.3140861\ttotal: 244ms\tremaining: 584ms\n",
            "59:\tlearn: 0.3127501\ttotal: 249ms\tremaining: 581ms\n",
            "60:\tlearn: 0.3110175\ttotal: 256ms\tremaining: 584ms\n",
            "61:\tlearn: 0.3082383\ttotal: 260ms\tremaining: 579ms\n",
            "62:\tlearn: 0.3058924\ttotal: 264ms\tremaining: 574ms\n",
            "63:\tlearn: 0.3034503\ttotal: 268ms\tremaining: 570ms\n",
            "64:\tlearn: 0.3007585\ttotal: 272ms\tremaining: 565ms\n",
            "65:\tlearn: 0.2989303\ttotal: 276ms\tremaining: 561ms\n",
            "66:\tlearn: 0.2974695\ttotal: 280ms\tremaining: 556ms\n",
            "67:\tlearn: 0.2952234\ttotal: 284ms\tremaining: 552ms\n",
            "68:\tlearn: 0.2917672\ttotal: 288ms\tremaining: 547ms\n",
            "69:\tlearn: 0.2904015\ttotal: 290ms\tremaining: 538ms\n",
            "70:\tlearn: 0.2882877\ttotal: 294ms\tremaining: 534ms\n",
            "71:\tlearn: 0.2864031\ttotal: 298ms\tremaining: 530ms\n",
            "72:\tlearn: 0.2847410\ttotal: 302ms\tremaining: 525ms\n",
            "73:\tlearn: 0.2831286\ttotal: 306ms\tremaining: 520ms\n",
            "74:\tlearn: 0.2805571\ttotal: 309ms\tremaining: 516ms\n",
            "75:\tlearn: 0.2788848\ttotal: 313ms\tremaining: 511ms\n",
            "76:\tlearn: 0.2761907\ttotal: 317ms\tremaining: 507ms\n",
            "77:\tlearn: 0.2749625\ttotal: 321ms\tremaining: 503ms\n",
            "78:\tlearn: 0.2733984\ttotal: 325ms\tremaining: 498ms\n",
            "79:\tlearn: 0.2723307\ttotal: 329ms\tremaining: 494ms\n",
            "80:\tlearn: 0.2710214\ttotal: 333ms\tremaining: 489ms\n",
            "81:\tlearn: 0.2699080\ttotal: 337ms\tremaining: 485ms\n",
            "82:\tlearn: 0.2683451\ttotal: 341ms\tremaining: 481ms\n",
            "83:\tlearn: 0.2669487\ttotal: 345ms\tremaining: 476ms\n",
            "84:\tlearn: 0.2647716\ttotal: 349ms\tremaining: 472ms\n",
            "85:\tlearn: 0.2634680\ttotal: 353ms\tremaining: 469ms\n",
            "86:\tlearn: 0.2622303\ttotal: 360ms\tremaining: 468ms\n",
            "87:\tlearn: 0.2605533\ttotal: 366ms\tremaining: 465ms\n",
            "88:\tlearn: 0.2595138\ttotal: 370ms\tremaining: 461ms\n",
            "89:\tlearn: 0.2585753\ttotal: 374ms\tremaining: 458ms\n",
            "90:\tlearn: 0.2569455\ttotal: 379ms\tremaining: 453ms\n",
            "91:\tlearn: 0.2560611\ttotal: 382ms\tremaining: 449ms\n",
            "92:\tlearn: 0.2544070\ttotal: 386ms\tremaining: 444ms\n",
            "93:\tlearn: 0.2517868\ttotal: 390ms\tremaining: 440ms\n",
            "94:\tlearn: 0.2507386\ttotal: 394ms\tremaining: 435ms\n",
            "95:\tlearn: 0.2495004\ttotal: 402ms\tremaining: 435ms\n",
            "96:\tlearn: 0.2474200\ttotal: 406ms\tremaining: 431ms\n",
            "97:\tlearn: 0.2461638\ttotal: 410ms\tremaining: 426ms\n",
            "98:\tlearn: 0.2450345\ttotal: 413ms\tremaining: 422ms\n",
            "99:\tlearn: 0.2444111\ttotal: 417ms\tremaining: 417ms\n",
            "100:\tlearn: 0.2437353\ttotal: 421ms\tremaining: 412ms\n",
            "101:\tlearn: 0.2431478\ttotal: 425ms\tremaining: 408ms\n",
            "102:\tlearn: 0.2418609\ttotal: 429ms\tremaining: 404ms\n",
            "103:\tlearn: 0.2410050\ttotal: 433ms\tremaining: 399ms\n",
            "104:\tlearn: 0.2404146\ttotal: 437ms\tremaining: 395ms\n",
            "105:\tlearn: 0.2383649\ttotal: 440ms\tremaining: 391ms\n",
            "106:\tlearn: 0.2375381\ttotal: 444ms\tremaining: 386ms\n",
            "107:\tlearn: 0.2356240\ttotal: 448ms\tremaining: 382ms\n",
            "108:\tlearn: 0.2348428\ttotal: 452ms\tremaining: 377ms\n",
            "109:\tlearn: 0.2339522\ttotal: 454ms\tremaining: 372ms\n",
            "110:\tlearn: 0.2323986\ttotal: 458ms\tremaining: 367ms\n",
            "111:\tlearn: 0.2311732\ttotal: 462ms\tremaining: 363ms\n",
            "112:\tlearn: 0.2300730\ttotal: 466ms\tremaining: 359ms\n",
            "113:\tlearn: 0.2292724\ttotal: 470ms\tremaining: 354ms\n",
            "114:\tlearn: 0.2286512\ttotal: 474ms\tremaining: 350ms\n",
            "115:\tlearn: 0.2267089\ttotal: 477ms\tremaining: 346ms\n",
            "116:\tlearn: 0.2256888\ttotal: 481ms\tremaining: 342ms\n",
            "117:\tlearn: 0.2250617\ttotal: 486ms\tremaining: 337ms\n",
            "118:\tlearn: 0.2242462\ttotal: 489ms\tremaining: 333ms\n",
            "119:\tlearn: 0.2233604\ttotal: 494ms\tremaining: 330ms\n",
            "120:\tlearn: 0.2222975\ttotal: 499ms\tremaining: 326ms\n",
            "121:\tlearn: 0.2217859\ttotal: 503ms\tremaining: 322ms\n",
            "122:\tlearn: 0.2206889\ttotal: 507ms\tremaining: 317ms\n",
            "123:\tlearn: 0.2184409\ttotal: 511ms\tremaining: 313ms\n",
            "124:\tlearn: 0.2175196\ttotal: 515ms\tremaining: 309ms\n",
            "125:\tlearn: 0.2156052\ttotal: 519ms\tremaining: 305ms\n",
            "126:\tlearn: 0.2149540\ttotal: 523ms\tremaining: 300ms\n",
            "127:\tlearn: 0.2133339\ttotal: 527ms\tremaining: 296ms\n",
            "128:\tlearn: 0.2120956\ttotal: 531ms\tremaining: 292ms\n",
            "129:\tlearn: 0.2102807\ttotal: 536ms\tremaining: 289ms\n",
            "130:\tlearn: 0.2091413\ttotal: 541ms\tremaining: 285ms\n",
            "131:\tlearn: 0.2083858\ttotal: 545ms\tremaining: 281ms\n",
            "132:\tlearn: 0.2082139\ttotal: 547ms\tremaining: 275ms\n",
            "133:\tlearn: 0.2075806\ttotal: 551ms\tremaining: 271ms\n",
            "134:\tlearn: 0.2065749\ttotal: 555ms\tremaining: 267ms\n",
            "135:\tlearn: 0.2056529\ttotal: 559ms\tremaining: 263ms\n",
            "136:\tlearn: 0.2050428\ttotal: 563ms\tremaining: 259ms\n",
            "137:\tlearn: 0.2044387\ttotal: 567ms\tremaining: 255ms\n",
            "138:\tlearn: 0.2039460\ttotal: 571ms\tremaining: 250ms\n",
            "139:\tlearn: 0.2023206\ttotal: 575ms\tremaining: 246ms\n",
            "140:\tlearn: 0.2013544\ttotal: 579ms\tremaining: 242ms\n",
            "141:\tlearn: 0.2001691\ttotal: 582ms\tremaining: 238ms\n",
            "142:\tlearn: 0.1991756\ttotal: 586ms\tremaining: 234ms\n",
            "143:\tlearn: 0.1982775\ttotal: 590ms\tremaining: 229ms\n",
            "144:\tlearn: 0.1972000\ttotal: 600ms\tremaining: 228ms\n",
            "145:\tlearn: 0.1954370\ttotal: 604ms\tremaining: 223ms\n",
            "146:\tlearn: 0.1943625\ttotal: 608ms\tremaining: 219ms\n",
            "147:\tlearn: 0.1933603\ttotal: 612ms\tremaining: 215ms\n",
            "148:\tlearn: 0.1923451\ttotal: 616ms\tremaining: 211ms\n",
            "149:\tlearn: 0.1909043\ttotal: 620ms\tremaining: 207ms\n",
            "150:\tlearn: 0.1900798\ttotal: 624ms\tremaining: 202ms\n",
            "151:\tlearn: 0.1896075\ttotal: 628ms\tremaining: 198ms\n",
            "152:\tlearn: 0.1886362\ttotal: 632ms\tremaining: 194ms\n",
            "153:\tlearn: 0.1879743\ttotal: 635ms\tremaining: 190ms\n",
            "154:\tlearn: 0.1872903\ttotal: 639ms\tremaining: 186ms\n",
            "155:\tlearn: 0.1858487\ttotal: 643ms\tremaining: 181ms\n",
            "156:\tlearn: 0.1847557\ttotal: 647ms\tremaining: 177ms\n",
            "157:\tlearn: 0.1834748\ttotal: 651ms\tremaining: 173ms\n",
            "158:\tlearn: 0.1827393\ttotal: 655ms\tremaining: 169ms\n",
            "159:\tlearn: 0.1820029\ttotal: 659ms\tremaining: 165ms\n",
            "160:\tlearn: 0.1814870\ttotal: 663ms\tremaining: 161ms\n",
            "161:\tlearn: 0.1807143\ttotal: 667ms\tremaining: 156ms\n",
            "162:\tlearn: 0.1788792\ttotal: 670ms\tremaining: 152ms\n",
            "163:\tlearn: 0.1781223\ttotal: 674ms\tremaining: 148ms\n",
            "164:\tlearn: 0.1778573\ttotal: 678ms\tremaining: 144ms\n",
            "165:\tlearn: 0.1774994\ttotal: 682ms\tremaining: 140ms\n",
            "166:\tlearn: 0.1766472\ttotal: 686ms\tremaining: 136ms\n",
            "167:\tlearn: 0.1753854\ttotal: 690ms\tremaining: 131ms\n",
            "168:\tlearn: 0.1740620\ttotal: 694ms\tremaining: 127ms\n",
            "169:\tlearn: 0.1731421\ttotal: 698ms\tremaining: 123ms\n",
            "170:\tlearn: 0.1723542\ttotal: 702ms\tremaining: 119ms\n",
            "171:\tlearn: 0.1716360\ttotal: 706ms\tremaining: 115ms\n",
            "172:\tlearn: 0.1705085\ttotal: 712ms\tremaining: 111ms\n",
            "173:\tlearn: 0.1694723\ttotal: 717ms\tremaining: 107ms\n",
            "174:\tlearn: 0.1688626\ttotal: 722ms\tremaining: 103ms\n",
            "175:\tlearn: 0.1682950\ttotal: 729ms\tremaining: 99.4ms\n",
            "176:\tlearn: 0.1674069\ttotal: 733ms\tremaining: 95.3ms\n",
            "177:\tlearn: 0.1672303\ttotal: 737ms\tremaining: 91.1ms\n",
            "178:\tlearn: 0.1666822\ttotal: 741ms\tremaining: 87ms\n",
            "179:\tlearn: 0.1660508\ttotal: 746ms\tremaining: 82.9ms\n",
            "180:\tlearn: 0.1653085\ttotal: 750ms\tremaining: 78.7ms\n",
            "181:\tlearn: 0.1643963\ttotal: 754ms\tremaining: 74.6ms\n",
            "182:\tlearn: 0.1635574\ttotal: 758ms\tremaining: 70.5ms\n",
            "183:\tlearn: 0.1627505\ttotal: 763ms\tremaining: 66.3ms\n",
            "184:\tlearn: 0.1620530\ttotal: 767ms\tremaining: 62.2ms\n",
            "185:\tlearn: 0.1616087\ttotal: 771ms\tremaining: 58.1ms\n",
            "186:\tlearn: 0.1606996\ttotal: 775ms\tremaining: 53.9ms\n",
            "187:\tlearn: 0.1597629\ttotal: 780ms\tremaining: 49.8ms\n",
            "188:\tlearn: 0.1590408\ttotal: 784ms\tremaining: 45.6ms\n",
            "189:\tlearn: 0.1586038\ttotal: 788ms\tremaining: 41.5ms\n",
            "190:\tlearn: 0.1578480\ttotal: 798ms\tremaining: 37.6ms\n",
            "191:\tlearn: 0.1571188\ttotal: 802ms\tremaining: 33.4ms\n",
            "192:\tlearn: 0.1561423\ttotal: 806ms\tremaining: 29.3ms\n",
            "193:\tlearn: 0.1555195\ttotal: 810ms\tremaining: 25.1ms\n",
            "194:\tlearn: 0.1541191\ttotal: 814ms\tremaining: 20.9ms\n",
            "195:\tlearn: 0.1528584\ttotal: 819ms\tremaining: 16.7ms\n",
            "196:\tlearn: 0.1519591\ttotal: 823ms\tremaining: 12.5ms\n",
            "197:\tlearn: 0.1513487\ttotal: 827ms\tremaining: 8.35ms\n",
            "198:\tlearn: 0.1508775\ttotal: 830ms\tremaining: 4.17ms\n",
            "199:\tlearn: 0.1496718\ttotal: 834ms\tremaining: 0us\n"
          ],
          "name": "stdout"
        }
      ]
    },
    {
      "cell_type": "code",
      "metadata": {
        "id": "TRhkiHc_UUWG",
        "colab_type": "code",
        "outputId": "9dcd3a6b-13c7-4405-c3f2-0f20f8a974c8",
        "colab": {
          "base_uri": "https://localhost:8080/",
          "height": 34
        }
      },
      "source": [
        "y_pred=catb_tuned.predict(X_test)\n",
        "accuracy_score(y_test, y_pred)"
      ],
      "execution_count": 18,
      "outputs": [
        {
          "output_type": "execute_result",
          "data": {
            "text/plain": [
              "0.7489177489177489"
            ]
          },
          "metadata": {
            "tags": []
          },
          "execution_count": 18
        }
      ]
    },
    {
      "cell_type": "code",
      "metadata": {
        "id": "jW6PpKBrYt76",
        "colab_type": "code",
        "colab": {
          "base_uri": "https://localhost:8080/",
          "height": 298
        },
        "outputId": "b8ef3954-527c-46c1-b603-a3605e399a68"
      },
      "source": [
        "#değişken önem düzeyleri\n",
        "feature_imp=pd.Series(catb_tuned.feature_importances_,\n",
        "                      index=X_train.columns).sort_values(ascending=False)\n",
        "\n",
        "sns.barplot(x=feature_imp, y=feature_imp.index)\n",
        "plt.xlabel('Değişken Önem Skorları')\n",
        "plt.ylabel('Değişkenler')\n",
        "plt.title(\"Değişken Önem Düzeyleri\")\n",
        "plt.show()"
      ],
      "execution_count": 19,
      "outputs": [
        {
          "output_type": "display_data",
          "data": {
            "image/png": "[encoded data removed]",
            "text/plain": [
              "<Figure size 432x288 with 1 Axes>"
            ]
          },
          "metadata": {
            "tags": [],
            "needs_background": "light"
          }
        }
      ]
    }
  ]
}