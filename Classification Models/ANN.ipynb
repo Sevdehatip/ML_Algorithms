{
  "nbformat": 4,
  "nbformat_minor": 0,
  "metadata": {
    "colab": {
      "name": "ANN.ipynb",
      "provenance": []
    },
    "kernelspec": {
      "name": "python3",
      "display_name": "Python 3"
    }
  },
  "cells": [
    {
      "cell_type": "code",
      "metadata": {
        "id": "mOFdSv2q0BDJ",
        "colab_type": "code",
        "colab": {
          "base_uri": "https://localhost:8080/",
          "height": 71
        },
        "outputId": "bee4d148-a78a-4f66-8512-74c46f7a107d"
      },
      "source": [
        "import numpy as np\n",
        "import pandas as pd\n",
        "import statsmodels.api as sm\n",
        "import seaborn as sns\n",
        "from sklearn.model_selection import train_test_split, GridSearchCV, cross_val_score\n",
        "from sklearn.metrics import mean_squared_error, r2_score, confusion_matrix, accuracy_score, roc_auc_score, roc_curve, classification_report\n",
        "import matplotlib.pyplot as plt\n",
        "from sklearn.preprocessing import scale, StandardScaler\n",
        "from sklearn.linear_model import LogisticRegression\n",
        "from sklearn.tree import DecisionTreeClassifier\n",
        "from sklearn.neighbors import KNeighborsClassifier\n",
        "from sklearn.neural_network import MLPClassifier\n",
        "from sklearn.ensemble import RandomForestClassifier\n",
        "from sklearn.ensemble import GradientBoostingClassifier\n",
        "from sklearn.svm import SVC"
      ],
      "execution_count": 1,
      "outputs": [
        {
          "output_type": "stream",
          "text": [
            "/usr/local/lib/python3.6/dist-packages/statsmodels/tools/_testing.py:19: FutureWarning: pandas.util.testing is deprecated. Use the functions in the public API at pandas.testing instead.\n",
            "  import pandas.util.testing as tm\n"
          ],
          "name": "stderr"
        }
      ]
    },
    {
      "cell_type": "code",
      "metadata": {
        "id": "-gqpv0gu0F6e",
        "colab_type": "code",
        "colab": {}
      },
      "source": [
        "import warnings\n",
        "warnings.filterwarnings(\"ignore\", category=DeprecationWarning)\n",
        "warnings.filterwarnings(\"ignore\", category=FutureWarning)"
      ],
      "execution_count": 0,
      "outputs": []
    },
    {
      "cell_type": "code",
      "metadata": {
        "id": "x9kAFzhW0Hw5",
        "colab_type": "code",
        "colab": {
          "resources": {
            "http://localhost:8080/nbextensions/google.colab/files.js": {
              "data": "Ly8gQ29weXJpZ2h0IDIwMTcgR29vZ2xlIExMQwovLwovLyBMaWNlbnNlZCB1bmRlciB0aGUgQXBhY2hlIExpY2Vuc2UsIFZlcnNpb24gMi4wICh0aGUgIkxpY2Vuc2UiKTsKLy8geW91IG1heSBub3QgdXNlIHRoaXMgZmlsZSBleGNlcHQgaW4gY29tcGxpYW5jZSB3aXRoIHRoZSBMaWNlbnNlLgovLyBZb3UgbWF5IG9idGFpbiBhIGNvcHkgb2YgdGhlIExpY2Vuc2UgYXQKLy8KLy8gICAgICBodHRwOi8vd3d3LmFwYWNoZS5vcmcvbGljZW5zZXMvTElDRU5TRS0yLjAKLy8KLy8gVW5sZXNzIHJlcXVpcmVkIGJ5IGFwcGxpY2FibGUgbGF3IG9yIGFncmVlZCB0byBpbiB3cml0aW5nLCBzb2Z0d2FyZQovLyBkaXN0cmlidXRlZCB1bmRlciB0aGUgTGljZW5zZSBpcyBkaXN0cmlidXRlZCBvbiBhbiAiQVMgSVMiIEJBU0lTLAovLyBXSVRIT1VUIFdBUlJBTlRJRVMgT1IgQ09ORElUSU9OUyBPRiBBTlkgS0lORCwgZWl0aGVyIGV4cHJlc3Mgb3IgaW1wbGllZC4KLy8gU2VlIHRoZSBMaWNlbnNlIGZvciB0aGUgc3BlY2lmaWMgbGFuZ3VhZ2UgZ292ZXJuaW5nIHBlcm1pc3Npb25zIGFuZAovLyBsaW1pdGF0aW9ucyB1bmRlciB0aGUgTGljZW5zZS4KCi8qKgogKiBAZmlsZW92ZXJ2aWV3IEhlbHBlcnMgZm9yIGdvb2dsZS5jb2xhYiBQeXRob24gbW9kdWxlLgogKi8KKGZ1bmN0aW9uKHNjb3BlKSB7CmZ1bmN0aW9uIHNwYW4odGV4dCwgc3R5bGVBdHRyaWJ1dGVzID0ge30pIHsKICBjb25zdCBlbGVtZW50ID0gZG9jdW1lbnQuY3JlYXRlRWxlbWVudCgnc3BhbicpOwogIGVsZW1lbnQudGV4dENvbnRlbnQgPSB0ZXh0OwogIGZvciAoY29uc3Qga2V5IG9mIE9iamVjdC5rZXlzKHN0eWxlQXR0cmlidXRlcykpIHsKICAgIGVsZW1lbnQuc3R5bGVba2V5XSA9IHN0eWxlQXR0cmlidXRlc1trZXldOwogIH0KICByZXR1cm4gZWxlbWVudDsKfQoKLy8gTWF4IG51bWJlciBvZiBieXRlcyB3aGljaCB3aWxsIGJlIHVwbG9hZGVkIGF0IGEgdGltZS4KY29uc3QgTUFYX1BBWUxPQURfU0laRSA9IDEwMCAqIDEwMjQ7Ci8vIE1heCBhbW91bnQgb2YgdGltZSB0byBibG9jayB3YWl0aW5nIGZvciB0aGUgdXNlci4KY29uc3QgRklMRV9DSEFOR0VfVElNRU9VVF9NUyA9IDMwICogMTAwMDsKCmZ1bmN0aW9uIF91cGxvYWRGaWxlcyhpbnB1dElkLCBvdXRwdXRJZCkgewogIGNvbnN0IHN0ZXBzID0gdXBsb2FkRmlsZXNTdGVwKGlucHV0SWQsIG91dHB1dElkKTsKICBjb25zdCBvdXRwdXRFbGVtZW50ID0gZG9jdW1lbnQuZ2V0RWxlbWVudEJ5SWQob3V0cHV0SWQpOwogIC8vIENhY2hlIHN0ZXBzIG9uIHRoZSBvdXRwdXRFbGVtZW50IHRvIG1ha2UgaXQgYXZhaWxhYmxlIGZvciB0aGUgbmV4dCBjYWxsCiAgLy8gdG8gdXBsb2FkRmlsZXNDb250aW51ZSBmcm9tIFB5dGhvbi4KICBvdXRwdXRFbGVtZW50LnN0ZXBzID0gc3RlcHM7CgogIHJldHVybiBfdXBsb2FkRmlsZXNDb250aW51ZShvdXRwdXRJZCk7Cn0KCi8vIFRoaXMgaXMgcm91Z2hseSBhbiBhc3luYyBnZW5lcmF0b3IgKG5vdCBzdXBwb3J0ZWQgaW4gdGhlIGJyb3dzZXIgeWV0KSwKLy8gd2hlcmUgdGhlcmUgYXJlIG11bHRpcGxlIGFzeW5jaHJvbm91cyBzdGVwcyBhbmQgdGhlIFB5dGhvbiBzaWRlIGlzIGdvaW5nCi8vIHRvIHBvbGwgZm9yIGNvbXBsZXRpb24gb2YgZWFjaCBzdGVwLgovLyBUaGlzIHVzZXMgYSBQcm9taXNlIHRvIGJsb2NrIHRoZSBweXRob24gc2lkZSBvbiBjb21wbGV0aW9uIG9mIGVhY2ggc3RlcCwKLy8gdGhlbiBwYXNzZXMgdGhlIHJlc3VsdCBvZiB0aGUgcHJldmlvdXMgc3RlcCBhcyB0aGUgaW5wdXQgdG8gdGhlIG5leHQgc3RlcC4KZnVuY3Rpb24gX3VwbG9hZEZpbGVzQ29udGludWUob3V0cHV0SWQpIHsKICBjb25zdCBvdXRwdXRFbGVtZW50ID0gZG9jdW1lbnQuZ2V0RWxlbWVudEJ5SWQob3V0cHV0SWQpOwogIGNvbnN0IHN0ZXBzID0gb3V0cHV0RWxlbWVudC5zdGVwczsKCiAgY29uc3QgbmV4dCA9IHN0ZXBzLm5leHQob3V0cHV0RWxlbWVudC5sYXN0UHJvbWlzZVZhbHVlKTsKICByZXR1cm4gUHJvbWlzZS5yZXNvbHZlKG5leHQudmFsdWUucHJvbWlzZSkudGhlbigodmFsdWUpID0+IHsKICAgIC8vIENhY2hlIHRoZSBsYXN0IHByb21pc2UgdmFsdWUgdG8gbWFrZSBpdCBhdmFpbGFibGUgdG8gdGhlIG5leHQKICAgIC8vIHN0ZXAgb2YgdGhlIGdlbmVyYXRvci4KICAgIG91dHB1dEVsZW1lbnQubGFzdFByb21pc2VWYWx1ZSA9IHZhbHVlOwogICAgcmV0dXJuIG5leHQudmFsdWUucmVzcG9uc2U7CiAgfSk7Cn0KCi8qKgogKiBHZW5lcmF0b3IgZnVuY3Rpb24gd2hpY2ggaXMgY2FsbGVkIGJldHdlZW4gZWFjaCBhc3luYyBzdGVwIG9mIHRoZSB1cGxvYWQKICogcHJvY2Vzcy4KICogQHBhcmFtIHtzdHJpbmd9IGlucHV0SWQgRWxlbWVudCBJRCBvZiB0aGUgaW5wdXQgZmlsZSBwaWNrZXIgZWxlbWVudC4KICogQHBhcmFtIHtzdHJpbmd9IG91dHB1dElkIEVsZW1lbnQgSUQgb2YgdGhlIG91dHB1dCBkaXNwbGF5LgogKiBAcmV0dXJuIHshSXRlcmFibGU8IU9iamVjdD59IEl0ZXJhYmxlIG9mIG5leHQgc3RlcHMuCiAqLwpmdW5jdGlvbiogdXBsb2FkRmlsZXNTdGVwKGlucHV0SWQsIG91dHB1dElkKSB7CiAgY29uc3QgaW5wdXRFbGVtZW50ID0gZG9jdW1lbnQuZ2V0RWxlbWVudEJ5SWQoaW5wdXRJZCk7CiAgaW5wdXRFbGVtZW50LmRpc2FibGVkID0gZmFsc2U7CgogIGNvbnN0IG91dHB1dEVsZW1lbnQgPSBkb2N1bWVudC5nZXRFbGVtZW50QnlJZChvdXRwdXRJZCk7CiAgb3V0cHV0RWxlbWVudC5pbm5lckhUTUwgPSAnJzsKCiAgY29uc3QgcGlja2VkUHJvbWlzZSA9IG5ldyBQcm9taXNlKChyZXNvbHZlKSA9PiB7CiAgICBpbnB1dEVsZW1lbnQuYWRkRXZlbnRMaXN0ZW5lcignY2hhbmdlJywgKGUpID0+IHsKICAgICAgcmVzb2x2ZShlLnRhcmdldC5maWxlcyk7CiAgICB9KTsKICB9KTsKCiAgY29uc3QgY2FuY2VsID0gZG9jdW1lbnQuY3JlYXRlRWxlbWVudCgnYnV0dG9uJyk7CiAgaW5wdXRFbGVtZW50LnBhcmVudEVsZW1lbnQuYXBwZW5kQ2hpbGQoY2FuY2VsKTsKICBjYW5jZWwudGV4dENvbnRlbnQgPSAnQ2FuY2VsIHVwbG9hZCc7CiAgY29uc3QgY2FuY2VsUHJvbWlzZSA9IG5ldyBQcm9taXNlKChyZXNvbHZlKSA9PiB7CiAgICBjYW5jZWwub25jbGljayA9ICgpID0+IHsKICAgICAgcmVzb2x2ZShudWxsKTsKICAgIH07CiAgfSk7CgogIC8vIENhbmNlbCB1cGxvYWQgaWYgdXNlciBoYXNuJ3QgcGlja2VkIGFueXRoaW5nIGluIHRpbWVvdXQuCiAgY29uc3QgdGltZW91dFByb21pc2UgPSBuZXcgUHJvbWlzZSgocmVzb2x2ZSkgPT4gewogICAgc2V0VGltZW91dCgoKSA9PiB7CiAgICAgIHJlc29sdmUobnVsbCk7CiAgICB9LCBGSUxFX0NIQU5HRV9USU1FT1VUX01TKTsKICB9KTsKCiAgLy8gV2FpdCBmb3IgdGhlIHVzZXIgdG8gcGljayB0aGUgZmlsZXMuCiAgY29uc3QgZmlsZXMgPSB5aWVsZCB7CiAgICBwcm9taXNlOiBQcm9taXNlLnJhY2UoW3BpY2tlZFByb21pc2UsIHRpbWVvdXRQcm9taXNlLCBjYW5jZWxQcm9taXNlXSksCiAgICByZXNwb25zZTogewogICAgICBhY3Rpb246ICdzdGFydGluZycsCiAgICB9CiAgfTsKCiAgaWYgKCFmaWxlcykgewogICAgcmV0dXJuIHsKICAgICAgcmVzcG9uc2U6IHsKICAgICAgICBhY3Rpb246ICdjb21wbGV0ZScsCiAgICAgIH0KICAgIH07CiAgfQoKICBjYW5jZWwucmVtb3ZlKCk7CgogIC8vIERpc2FibGUgdGhlIGlucHV0IGVsZW1lbnQgc2luY2UgZnVydGhlciBwaWNrcyBhcmUgbm90IGFsbG93ZWQuCiAgaW5wdXRFbGVtZW50LmRpc2FibGVkID0gdHJ1ZTsKCiAgZm9yIChjb25zdCBmaWxlIG9mIGZpbGVzKSB7CiAgICBjb25zdCBsaSA9IGRvY3VtZW50LmNyZWF0ZUVsZW1lbnQoJ2xpJyk7CiAgICBsaS5hcHBlbmQoc3BhbihmaWxlLm5hbWUsIHtmb250V2VpZ2h0OiAnYm9sZCd9KSk7CiAgICBsaS5hcHBlbmQoc3BhbigKICAgICAgICBgKCR7ZmlsZS50eXBlIHx8ICduL2EnfSkgLSAke2ZpbGUuc2l6ZX0gYnl0ZXMsIGAgKwogICAgICAgIGBsYXN0IG1vZGlmaWVkOiAkewogICAgICAgICAgICBmaWxlLmxhc3RNb2RpZmllZERhdGUgPyBmaWxlLmxhc3RNb2RpZmllZERhdGUudG9Mb2NhbGVEYXRlU3RyaW5nKCkgOgogICAgICAgICAgICAgICAgICAgICAgICAgICAgICAgICAgICAnbi9hJ30gLSBgKSk7CiAgICBjb25zdCBwZXJjZW50ID0gc3BhbignMCUgZG9uZScpOwogICAgbGkuYXBwZW5kQ2hpbGQocGVyY2VudCk7CgogICAgb3V0cHV0RWxlbWVudC5hcHBlbmRDaGlsZChsaSk7CgogICAgY29uc3QgZmlsZURhdGFQcm9taXNlID0gbmV3IFByb21pc2UoKHJlc29sdmUpID0+IHsKICAgICAgY29uc3QgcmVhZGVyID0gbmV3IEZpbGVSZWFkZXIoKTsKICAgICAgcmVhZGVyLm9ubG9hZCA9IChlKSA9PiB7CiAgICAgICAgcmVzb2x2ZShlLnRhcmdldC5yZXN1bHQpOwogICAgICB9OwogICAgICByZWFkZXIucmVhZEFzQXJyYXlCdWZmZXIoZmlsZSk7CiAgICB9KTsKICAgIC8vIFdhaXQgZm9yIHRoZSBkYXRhIHRvIGJlIHJlYWR5LgogICAgbGV0IGZpbGVEYXRhID0geWllbGQgewogICAgICBwcm9taXNlOiBmaWxlRGF0YVByb21pc2UsCiAgICAgIHJlc3BvbnNlOiB7CiAgICAgICAgYWN0aW9uOiAnY29udGludWUnLAogICAgICB9CiAgICB9OwoKICAgIC8vIFVzZSBhIGNodW5rZWQgc2VuZGluZyB0byBhdm9pZCBtZXNzYWdlIHNpemUgbGltaXRzLiBTZWUgYi82MjExNTY2MC4KICAgIGxldCBwb3NpdGlvbiA9IDA7CiAgICB3aGlsZSAocG9zaXRpb24gPCBmaWxlRGF0YS5ieXRlTGVuZ3RoKSB7CiAgICAgIGNvbnN0IGxlbmd0aCA9IE1hdGgubWluKGZpbGVEYXRhLmJ5dGVMZW5ndGggLSBwb3NpdGlvbiwgTUFYX1BBWUxPQURfU0laRSk7CiAgICAgIGNvbnN0IGNodW5rID0gbmV3IFVpbnQ4QXJyYXkoZmlsZURhdGEsIHBvc2l0aW9uLCBsZW5ndGgpOwogICAgICBwb3NpdGlvbiArPSBsZW5ndGg7CgogICAgICBjb25zdCBiYXNlNjQgPSBidG9hKFN0cmluZy5mcm9tQ2hhckNvZGUuYXBwbHkobnVsbCwgY2h1bmspKTsKICAgICAgeWllbGQgewogICAgICAgIHJlc3BvbnNlOiB7CiAgICAgICAgICBhY3Rpb246ICdhcHBlbmQnLAogICAgICAgICAgZmlsZTogZmlsZS5uYW1lLAogICAgICAgICAgZGF0YTogYmFzZTY0LAogICAgICAgIH0sCiAgICAgIH07CiAgICAgIHBlcmNlbnQudGV4dENvbnRlbnQgPQogICAgICAgICAgYCR7TWF0aC5yb3VuZCgocG9zaXRpb24gLyBmaWxlRGF0YS5ieXRlTGVuZ3RoKSAqIDEwMCl9JSBkb25lYDsKICAgIH0KICB9CgogIC8vIEFsbCBkb25lLgogIHlpZWxkIHsKICAgIHJlc3BvbnNlOiB7CiAgICAgIGFjdGlvbjogJ2NvbXBsZXRlJywKICAgIH0KICB9Owp9CgpzY29wZS5nb29nbGUgPSBzY29wZS5nb29nbGUgfHwge307CnNjb3BlLmdvb2dsZS5jb2xhYiA9IHNjb3BlLmdvb2dsZS5jb2xhYiB8fCB7fTsKc2NvcGUuZ29vZ2xlLmNvbGFiLl9maWxlcyA9IHsKICBfdXBsb2FkRmlsZXMsCiAgX3VwbG9hZEZpbGVzQ29udGludWUsCn07Cn0pKHNlbGYpOwo=",
              "ok": true,
              "headers": [
                [
                  "content-type",
                  "application/javascript"
                ]
              ],
              "status": 200,
              "status_text": ""
            }
          },
          "base_uri": "https://localhost:8080/",
          "height": 74
        },
        "outputId": "0c12ac25-2906-4d9b-ff2c-60e35202f690"
      },
      "source": [
        "from google.colab import files\n",
        "\n",
        "uploaded = files.upload()"
      ],
      "execution_count": 3,
      "outputs": [
        {
          "output_type": "display_data",
          "data": {
            "text/html": [
              "\n",
              "     <input type=\"file\" id=\"files-1de8b41b-0615-430a-a9c0-3f37b824811b\" name=\"files[]\" multiple disabled />\n",
              "     <output id=\"result-1de8b41b-0615-430a-a9c0-3f37b824811b\">\n",
              "      Upload widget is only available when the cell has been executed in the\n",
              "      current browser session. Please rerun this cell to enable.\n",
              "      </output>\n",
              "      <script src=\"/nbextensions/google.colab/files.js\"></script> "
            ],
            "text/plain": [
              "<IPython.core.display.HTML object>"
            ]
          },
          "metadata": {
            "tags": []
          }
        },
        {
          "output_type": "stream",
          "text": [
            "Saving diabetes.csv to diabetes.csv\n"
          ],
          "name": "stdout"
        }
      ]
    },
    {
      "cell_type": "code",
      "metadata": {
        "id": "6lu9gZqB0Jp6",
        "colab_type": "code",
        "colab": {}
      },
      "source": [
        "df=pd.read_csv(\"./diabetes.csv\")"
      ],
      "execution_count": 0,
      "outputs": []
    },
    {
      "cell_type": "code",
      "metadata": {
        "id": "HlRd5c2R0LSu",
        "colab_type": "code",
        "colab": {
          "base_uri": "https://localhost:8080/",
          "height": 204
        },
        "outputId": "e828adf5-e553-452d-c94a-5e3834e379c2"
      },
      "source": [
        "df.head()"
      ],
      "execution_count": 5,
      "outputs": [
        {
          "output_type": "execute_result",
          "data": {
            "text/html": [
              "<div>\n",
              "<style scoped>\n",
              "    .dataframe tbody tr th:only-of-type {\n",
              "        vertical-align: middle;\n",
              "    }\n",
              "\n",
              "    .dataframe tbody tr th {\n",
              "        vertical-align: top;\n",
              "    }\n",
              "\n",
              "    .dataframe thead th {\n",
              "        text-align: right;\n",
              "    }\n",
              "</style>\n",
              "<table border=\"1\" class=\"dataframe\">\n",
              "  <thead>\n",
              "    <tr style=\"text-align: right;\">\n",
              "      <th></th>\n",
              "      <th>Pregnancies</th>\n",
              "      <th>Glucose</th>\n",
              "      <th>BloodPressure</th>\n",
              "      <th>SkinThickness</th>\n",
              "      <th>Insulin</th>\n",
              "      <th>BMI</th>\n",
              "      <th>DiabetesPedigreeFunction</th>\n",
              "      <th>Age</th>\n",
              "      <th>Outcome</th>\n",
              "    </tr>\n",
              "  </thead>\n",
              "  <tbody>\n",
              "    <tr>\n",
              "      <th>0</th>\n",
              "      <td>6</td>\n",
              "      <td>148</td>\n",
              "      <td>72</td>\n",
              "      <td>35</td>\n",
              "      <td>0</td>\n",
              "      <td>33.6</td>\n",
              "      <td>0.627</td>\n",
              "      <td>50</td>\n",
              "      <td>1</td>\n",
              "    </tr>\n",
              "    <tr>\n",
              "      <th>1</th>\n",
              "      <td>1</td>\n",
              "      <td>85</td>\n",
              "      <td>66</td>\n",
              "      <td>29</td>\n",
              "      <td>0</td>\n",
              "      <td>26.6</td>\n",
              "      <td>0.351</td>\n",
              "      <td>31</td>\n",
              "      <td>0</td>\n",
              "    </tr>\n",
              "    <tr>\n",
              "      <th>2</th>\n",
              "      <td>8</td>\n",
              "      <td>183</td>\n",
              "      <td>64</td>\n",
              "      <td>0</td>\n",
              "      <td>0</td>\n",
              "      <td>23.3</td>\n",
              "      <td>0.672</td>\n",
              "      <td>32</td>\n",
              "      <td>1</td>\n",
              "    </tr>\n",
              "    <tr>\n",
              "      <th>3</th>\n",
              "      <td>1</td>\n",
              "      <td>89</td>\n",
              "      <td>66</td>\n",
              "      <td>23</td>\n",
              "      <td>94</td>\n",
              "      <td>28.1</td>\n",
              "      <td>0.167</td>\n",
              "      <td>21</td>\n",
              "      <td>0</td>\n",
              "    </tr>\n",
              "    <tr>\n",
              "      <th>4</th>\n",
              "      <td>0</td>\n",
              "      <td>137</td>\n",
              "      <td>40</td>\n",
              "      <td>35</td>\n",
              "      <td>168</td>\n",
              "      <td>43.1</td>\n",
              "      <td>2.288</td>\n",
              "      <td>33</td>\n",
              "      <td>1</td>\n",
              "    </tr>\n",
              "  </tbody>\n",
              "</table>\n",
              "</div>"
            ],
            "text/plain": [
              "   Pregnancies  Glucose  BloodPressure  ...  DiabetesPedigreeFunction  Age  Outcome\n",
              "0            6      148             72  ...                     0.627   50        1\n",
              "1            1       85             66  ...                     0.351   31        0\n",
              "2            8      183             64  ...                     0.672   32        1\n",
              "3            1       89             66  ...                     0.167   21        0\n",
              "4            0      137             40  ...                     2.288   33        1\n",
              "\n",
              "[5 rows x 9 columns]"
            ]
          },
          "metadata": {
            "tags": []
          },
          "execution_count": 5
        }
      ]
    },
    {
      "cell_type": "code",
      "metadata": {
        "id": "T6Qbtgv-0WET",
        "colab_type": "code",
        "colab": {}
      },
      "source": [
        "y=df[\"Outcome\"]\n",
        "X=df.drop([\"Outcome\"], axis=1)\n",
        "X_train, X_test, y_train, y_test=train_test_split(X,\n",
        "                                                  y,\n",
        "                                                  test_size=0.30,\n",
        "                                                  random_state=42)"
      ],
      "execution_count": 0,
      "outputs": []
    },
    {
      "cell_type": "markdown",
      "metadata": {
        "id": "FGuZf6vG0cSX",
        "colab_type": "text"
      },
      "source": [
        "**Model&Tahmin**"
      ]
    },
    {
      "cell_type": "code",
      "metadata": {
        "id": "QFQdIgmp0hyh",
        "colab_type": "code",
        "colab": {}
      },
      "source": [
        "mlpc_model=MLPClassifier().fit(X_train, y_train)"
      ],
      "execution_count": 0,
      "outputs": []
    },
    {
      "cell_type": "code",
      "metadata": {
        "id": "bANhPPgE0pGM",
        "colab_type": "code",
        "colab": {
          "base_uri": "https://localhost:8080/",
          "height": 1000
        },
        "outputId": "36a3be66-9987-4c54-8a64-de1e5c722e9b"
      },
      "source": [
        "mlpc_model.coefs_"
      ],
      "execution_count": 8,
      "outputs": [
        {
          "output_type": "execute_result",
          "data": {
            "text/plain": [
              "[array([[-2.10171717e-01,  5.71505304e-03, -5.36570114e-02,\n",
              "         -1.39238503e-01, -2.36962001e-01,  7.73248664e-02,\n",
              "          2.14539021e-03,  5.91948155e-02,  2.35636866e-01,\n",
              "         -2.61750905e-01,  1.37138818e-02, -8.36667509e-02,\n",
              "          3.08971604e-02,  2.87538277e-02,  3.37252810e-02,\n",
              "         -5.59796784e-03,  6.55154664e-02,  1.11922837e-01,\n",
              "         -1.94506466e-01,  1.74461213e-03, -2.12527504e-01,\n",
              "          8.71779645e-02,  1.04906668e-02, -1.82273423e-01,\n",
              "         -2.02063273e-02,  1.12464574e-01, -1.45350699e-01,\n",
              "          9.92909978e-03, -2.15481401e-01, -4.37571046e-02,\n",
              "          2.42053931e-01, -2.94094808e-02, -4.83971590e-03,\n",
              "         -2.55073634e-01,  1.52209416e-01, -9.48196745e-02,\n",
              "          1.60007256e-01,  5.16788620e-02, -1.55405350e-01,\n",
              "         -6.81766576e-03,  1.86261865e-01, -6.35930580e-02,\n",
              "         -1.84966721e-01,  1.16547038e-02, -1.74401954e-01,\n",
              "         -1.92182508e-01,  2.47529363e-02, -6.66085078e-02,\n",
              "         -3.10397302e-02, -4.07909580e-02, -2.65457309e-01,\n",
              "         -2.66157579e-01, -1.10328276e-01, -6.32850734e-02,\n",
              "         -5.83663458e-02, -1.05145560e-01,  2.93418752e-02,\n",
              "         -5.85315334e-02,  3.41649786e-02,  1.91935295e-01,\n",
              "          1.55012329e-01,  5.20680577e-02,  2.01913585e-01,\n",
              "         -2.45749290e-01, -2.29351505e-01, -1.14996837e-01,\n",
              "          1.94542386e-01,  6.58045885e-02,  2.01606975e-01,\n",
              "         -2.26227941e-01, -8.02436272e-02, -1.68419211e-01,\n",
              "         -2.24639906e-01,  3.69991694e-05, -5.16634497e-02,\n",
              "         -1.02475327e-02, -3.58389173e-02, -9.99036001e-02,\n",
              "          2.41471243e-01,  5.33116254e-02,  1.92862449e-03,\n",
              "         -1.71810820e-01,  1.80145677e-01,  5.65609331e-02,\n",
              "         -4.42343182e-02,  1.58286718e-01,  5.38778053e-02,\n",
              "          1.34733053e-01,  1.09866445e-02,  7.76504841e-02,\n",
              "         -3.45047890e-02,  8.14373966e-02,  5.82414410e-02,\n",
              "          6.68503214e-04,  2.76496385e-02, -3.04836298e-05,\n",
              "          2.35500556e-01,  1.77144296e-01, -2.09618387e-01,\n",
              "         -2.44977393e-01],\n",
              "        [-5.10948542e-03, -1.35015585e-01,  1.18896752e-01,\n",
              "          1.57671324e-02, -1.32221767e-01,  1.63845190e-02,\n",
              "         -2.12762623e-02, -5.26267665e-02, -1.44767417e-01,\n",
              "         -3.24014313e-02, -6.76361842e-02,  2.36152562e-01,\n",
              "         -7.81154355e-03, -8.77468598e-02, -2.37533833e-02,\n",
              "          2.25696857e-01, -4.76579201e-02,  3.06034939e-02,\n",
              "          8.19770556e-02,  1.24629587e-02, -1.34242878e-01,\n",
              "         -6.58094935e-02, -1.80209350e-01,  2.28571316e-01,\n",
              "          3.29581579e-07,  1.77177322e-01,  7.32299917e-02,\n",
              "         -6.99545339e-04,  9.04959231e-02, -3.30665246e-02,\n",
              "         -1.99774124e-01,  1.30199562e-01, -3.30412732e-02,\n",
              "          1.55890246e-01, -2.08041801e-01,  6.11039417e-02,\n",
              "          5.94375544e-03, -5.30346726e-02, -1.34774625e-01,\n",
              "          1.45515108e-01, -6.45244578e-02, -2.81994459e-03,\n",
              "         -1.73239774e-01, -7.13845297e-02, -2.10099492e-01,\n",
              "         -9.61674527e-02,  4.28464029e-02,  1.40240058e-01,\n",
              "          1.59232989e-01,  8.23156593e-02, -1.79522931e-01,\n",
              "         -4.90441579e-02,  1.08708389e-01, -1.03555289e-03,\n",
              "          7.08006672e-02,  2.35926311e-01, -2.29709410e-01,\n",
              "          2.58986515e-02, -1.17598938e-02, -1.87207454e-01,\n",
              "          1.21166674e-01,  1.47856687e-01,  1.15500387e-02,\n",
              "          1.17369146e-01, -2.09708992e-01,  3.58993087e-02,\n",
              "         -1.82413448e-01,  2.29939443e-01, -1.31361193e-01,\n",
              "          8.01073808e-02, -1.42958972e-01, -8.72491282e-02,\n",
              "          3.62247402e-02, -4.94463460e-02, -1.85611318e-01,\n",
              "          1.79795794e-01,  8.78723398e-02,  6.19796455e-02,\n",
              "          8.05460218e-02, -9.63224822e-02,  2.11386081e-01,\n",
              "          2.31143559e-01,  2.06451500e-01,  1.81132101e-01,\n",
              "         -3.24827123e-02,  1.12132649e-01,  1.93612127e-01,\n",
              "          1.88414638e-01,  1.77859580e-01, -5.62776018e-02,\n",
              "          1.14681763e-01,  1.27568093e-01, -9.44993070e-02,\n",
              "         -1.83555501e-02, -1.68473647e-04, -1.69619475e-02,\n",
              "         -1.61124758e-02, -9.71098641e-02, -3.72158020e-02,\n",
              "          3.20162236e-02],\n",
              "        [ 1.42933938e-01,  4.88868926e-02, -7.72048863e-02,\n",
              "          2.00482723e-01, -8.41967324e-02,  1.62099901e-01,\n",
              "         -1.65700414e-02, -2.62446797e-03, -1.85745540e-01,\n",
              "          8.07503289e-02, -2.10676229e-03,  1.01758023e-01,\n",
              "         -1.51127645e-02, -1.89952042e-01, -7.87201120e-03,\n",
              "          1.28023562e-01, -1.88636159e-01, -1.64825712e-01,\n",
              "         -1.95612670e-01, -5.52441089e-02, -1.53188678e-01,\n",
              "          2.12764591e-01,  1.89942846e-01, -1.42666605e-01,\n",
              "         -1.12462570e-03, -1.51015947e-01, -8.64948841e-03,\n",
              "         -3.47102748e-03,  9.08256526e-02, -2.48660418e-05,\n",
              "         -1.54805418e-01, -1.60856340e-01, -2.01376372e-02,\n",
              "          5.25966712e-02, -4.60669715e-02,  1.77246155e-01,\n",
              "         -2.13682389e-01, -1.91766246e-02, -5.92605941e-02,\n",
              "         -2.24555783e-01,  2.14955521e-01,  7.78892261e-05,\n",
              "         -1.50406438e-01,  1.59366644e-01,  1.82906895e-01,\n",
              "          2.05634035e-01,  8.83038108e-02, -1.77270616e-01,\n",
              "          2.92351002e-02,  1.09535407e-01, -8.54371497e-02,\n",
              "          2.08399144e-01,  6.51664517e-02,  2.32912214e-04,\n",
              "          1.19389272e-02,  2.04090649e-01, -1.09609569e-02,\n",
              "          2.31266654e-01,  1.96193120e-04, -2.04785858e-02,\n",
              "          2.68287158e-02, -1.95336172e-01,  1.84551181e-02,\n",
              "          3.11036242e-02, -6.78033451e-02, -9.25613821e-02,\n",
              "         -1.53203253e-01,  8.59639266e-02,  4.65348683e-03,\n",
              "         -1.95860947e-01,  1.75585189e-01, -1.19850854e-01,\n",
              "         -8.42667257e-02, -3.28825812e-02, -1.90951128e-01,\n",
              "          1.44953469e-01,  5.74267347e-02,  9.81221072e-02,\n",
              "         -5.76451260e-02, -1.61053341e-01,  2.63242388e-02,\n",
              "         -1.29709225e-01,  8.71579366e-02, -5.42312566e-03,\n",
              "          1.05314627e-01,  1.86197912e-01, -2.15513811e-01,\n",
              "          1.14470907e-02, -8.68573664e-02, -6.56886770e-02,\n",
              "          5.80815375e-02, -2.15840113e-01,  1.39197164e-01,\n",
              "         -3.58907895e-04,  1.78877755e-01, -9.56253218e-03,\n",
              "         -8.77558277e-02, -1.25955389e-01,  8.61036913e-02,\n",
              "         -6.45928281e-02],\n",
              "        [-1.68375329e-01, -3.93785156e-02,  2.06776822e-01,\n",
              "         -1.01911461e-01,  1.46419101e-01,  7.37511763e-02,\n",
              "          2.37888364e-03,  7.88560341e-04,  8.64197394e-02,\n",
              "         -1.81117473e-01,  2.06287816e-01,  2.25375135e-01,\n",
              "          4.57233558e-02, -1.73747052e-01, -5.42697285e-02,\n",
              "         -2.15692729e-01,  1.72909292e-01, -2.29657326e-02,\n",
              "         -1.26000374e-01,  9.08393090e-02,  1.31598946e-01,\n",
              "         -1.57761255e-01, -1.13349180e-01, -1.43081633e-01,\n",
              "         -4.34261003e-02, -1.26451313e-01, -3.04972181e-02,\n",
              "         -1.23994165e-02,  1.17347702e-03, -1.33570553e-03,\n",
              "          2.24478578e-01, -1.94490374e-01, -6.32933922e-02,\n",
              "         -7.28905096e-02, -1.89361732e-01,  1.58043162e-01,\n",
              "         -1.95666018e-01, -4.88888234e-02,  2.84721578e-02,\n",
              "          2.39127436e-02,  1.96456706e-01, -1.60773566e-03,\n",
              "         -1.11475378e-01,  8.65146355e-02, -1.11053671e-01,\n",
              "         -1.97114955e-02, -6.04265026e-02, -1.51958022e-01,\n",
              "          2.32475069e-01,  5.83186311e-02,  2.49538697e-01,\n",
              "          1.52763963e-01,  1.18262720e-01,  9.11691268e-03,\n",
              "          2.12282918e-01, -1.10743313e-01, -7.72503786e-02,\n",
              "          1.45879363e-01,  1.67283048e-02,  1.22794659e-01,\n",
              "         -1.64991369e-01,  9.95966482e-02, -5.07821750e-02,\n",
              "         -8.54852210e-02,  6.72208748e-02, -1.32799591e-01,\n",
              "          2.16174794e-01,  4.58918873e-02,  2.04511130e-01,\n",
              "          5.99373252e-02,  5.47921447e-02,  3.37210868e-02,\n",
              "         -6.99645013e-02, -1.54006529e-02,  2.04352078e-01,\n",
              "          2.95468661e-02, -1.63843522e-01, -2.48166652e-02,\n",
              "         -2.02993787e-01,  1.67940240e-01, -2.19394914e-01,\n",
              "          1.18016717e-02,  1.45067449e-02, -1.31477145e-01,\n",
              "          1.52256288e-01,  7.13885880e-02,  8.56917512e-02,\n",
              "         -8.28850361e-02, -9.57415679e-02,  7.04385921e-02,\n",
              "         -2.30633561e-01,  4.17550351e-03, -1.00402476e-01,\n",
              "         -1.46157641e-02, -1.76115887e-02, -3.47264565e-02,\n",
              "         -5.28679398e-02,  9.26180899e-02, -2.05394879e-01,\n",
              "          6.95883371e-02],\n",
              "        [-6.95185772e-02,  1.76411343e-01,  6.12323608e-02,\n",
              "          1.53097645e-01,  1.53380042e-01, -6.58240244e-02,\n",
              "         -1.78119928e-02, -8.19418226e-05,  3.44340533e-02,\n",
              "         -3.46056247e-03, -5.89024622e-02, -1.81963791e-01,\n",
              "          2.47467857e-06,  7.50721379e-02, -4.36497593e-02,\n",
              "          7.71214874e-02, -6.63228847e-02,  1.91121028e-01,\n",
              "         -6.55199354e-02, -3.56328625e-02,  1.53337628e-01,\n",
              "         -2.81268407e-02,  1.29184393e-01,  2.37252780e-01,\n",
              "          2.81622709e-05, -2.63918930e-01,  8.92799282e-02,\n",
              "         -2.72627615e-03, -2.45921487e-01, -1.67101912e-02,\n",
              "          1.55071736e-01, -1.64491449e-01,  2.68629973e-04,\n",
              "         -1.78950482e-01,  5.20998856e-02, -4.51910959e-02,\n",
              "          1.45076695e-01, -1.84529637e-03,  1.63673945e-01,\n",
              "         -3.10301739e-02,  7.33193583e-02, -2.27322620e-02,\n",
              "          2.22010827e-01,  1.93938660e-01,  1.59988967e-01,\n",
              "         -1.42492807e-01,  1.12417228e-02,  1.34053949e-01,\n",
              "         -4.64103662e-02, -1.91311633e-01,  2.87881189e-02,\n",
              "         -1.10482518e-01, -1.12925595e-01, -8.92198403e-05,\n",
              "          2.21255238e-01,  1.55543346e-02,  1.38526755e-01,\n",
              "         -7.31104762e-03, -3.50830608e-02,  9.53932505e-02,\n",
              "          1.64341324e-01, -1.10488992e-01, -2.72073079e-02,\n",
              "         -4.91233501e-02,  1.02583266e-01, -3.14459261e-02,\n",
              "          1.02872515e-01,  8.34940324e-03, -1.60507851e-01,\n",
              "          3.89031438e-02,  1.30873814e-01,  2.29460366e-01,\n",
              "         -2.22046385e-01,  6.55620741e-06,  2.14190509e-01,\n",
              "          1.19950796e-01, -2.07116727e-01,  1.58974550e-04,\n",
              "          2.20450285e-01,  3.03028260e-02, -1.15464828e-01,\n",
              "         -6.12162664e-03,  8.28728039e-02, -1.26658783e-02,\n",
              "         -6.72472667e-02, -2.25955903e-01,  9.27973484e-04,\n",
              "         -1.13105983e-01,  2.02703141e-01, -5.78028045e-02,\n",
              "         -2.54979905e-01, -1.60804555e-01, -1.81512419e-02,\n",
              "         -2.21997449e-03,  2.24285623e-01, -3.36890613e-02,\n",
              "         -1.20429101e-04, -1.93053966e-02, -5.76047796e-03,\n",
              "         -3.83739138e-02],\n",
              "        [-1.37945759e-01,  1.93919559e-01,  8.03181179e-02,\n",
              "         -1.46280220e-01,  1.08635471e-01,  1.83284969e-01,\n",
              "         -6.36347493e-05, -1.73031633e-02,  1.94409893e-01,\n",
              "          2.15885995e-01, -1.16880316e-01, -5.14941183e-02,\n",
              "         -1.08766138e-02, -2.18311192e-01, -3.84467523e-02,\n",
              "         -2.16927419e-01,  1.73477045e-01,  8.67926328e-02,\n",
              "         -9.92708484e-02,  1.03830038e-01,  9.70811518e-02,\n",
              "         -4.33419085e-02, -1.67365519e-01, -1.37506828e-01,\n",
              "         -3.38769050e-03, -3.48707500e-02, -6.89877310e-02,\n",
              "         -1.50660396e-02,  1.09174078e-02, -5.91233460e-02,\n",
              "          2.33433016e-01,  5.24527293e-02,  2.38026041e-02,\n",
              "         -1.71650643e-01, -2.52776563e-01,  1.59114467e-01,\n",
              "         -7.94644048e-02,  1.11011852e-02,  7.89273219e-02,\n",
              "         -2.04845062e-01,  7.18909592e-02, -4.08616593e-03,\n",
              "         -2.22506028e-01, -8.68141248e-02,  5.03350434e-02,\n",
              "          1.41491476e-01, -1.67241290e-01,  1.79986041e-01,\n",
              "          2.13394903e-01,  1.69313061e-01, -3.60190803e-02,\n",
              "         -4.33249764e-02, -8.92299660e-03, -6.56434925e-04,\n",
              "         -1.33303606e-01, -7.81409024e-02, -5.17827541e-02,\n",
              "          1.84875172e-01, -2.22194953e-02,  2.09589056e-01,\n",
              "         -7.94500807e-02,  1.73557638e-01, -7.17605076e-02,\n",
              "          7.85823415e-02, -1.48704452e-01,  1.21166214e-01,\n",
              "          1.79842447e-02,  1.91467638e-01,  1.52214876e-01,\n",
              "         -1.59512211e-01,  3.48869310e-02,  1.15564030e-02,\n",
              "          8.43379414e-02, -3.94160991e-03,  7.37817277e-02,\n",
              "         -1.56656068e-01, -2.29145590e-02,  1.59949435e-01,\n",
              "         -2.00858648e-01, -1.03910381e-01, -1.93570262e-01,\n",
              "         -2.37611639e-02,  3.37793037e-02,  1.33545328e-01,\n",
              "         -1.50828037e-01, -1.29330788e-01,  1.12596822e-01,\n",
              "          2.47874948e-01,  1.45315057e-01,  1.72722158e-01,\n",
              "         -1.77427654e-01,  3.96686125e-02,  9.35847226e-02,\n",
              "         -2.25812692e-03,  2.02774478e-01, -8.47499484e-03,\n",
              "         -7.37104519e-02,  1.24060310e-01, -6.95451340e-02,\n",
              "          2.02388489e-01],\n",
              "        [ 5.44142462e-02, -2.07815343e-01, -1.18222206e-01,\n",
              "          1.53112434e-01, -1.40651493e-01, -1.17717820e-02,\n",
              "          8.93310864e-04,  7.91445925e-04, -9.07919051e-02,\n",
              "         -2.51416988e-01,  3.16872103e-02, -1.19373147e-01,\n",
              "          7.30550220e-03,  8.47037535e-02, -2.82685717e-02,\n",
              "          2.30195753e-01,  2.73206041e-01,  1.48443825e-01,\n",
              "         -1.71204194e-01,  1.08320130e-01,  5.67559409e-02,\n",
              "          1.02101566e-01, -1.39551982e-01, -2.18509922e-01,\n",
              "          3.29891024e-02,  8.13211329e-03, -2.23027287e-01,\n",
              "         -3.26212540e-02,  8.00048486e-02,  2.42590833e-02,\n",
              "         -2.63279234e-02, -1.95474327e-02,  3.38946153e-02,\n",
              "         -1.91812203e-01,  1.31140022e-01, -1.86332257e-02,\n",
              "          1.13795818e-01, -4.49074314e-02, -7.31266681e-03,\n",
              "         -1.46538092e-01,  2.02625883e-01,  3.42332192e-03,\n",
              "         -1.22281887e-01,  1.08803387e-02,  1.52550442e-02,\n",
              "         -1.62449401e-01, -2.06661999e-01, -1.78148039e-01,\n",
              "         -2.20241639e-01,  1.25304310e-01, -1.41304430e-01,\n",
              "          6.79054323e-02, -1.90825232e-01,  2.95239533e-02,\n",
              "          1.64945858e-01, -1.74703489e-01,  2.30568170e-01,\n",
              "         -2.00970043e-01, -5.53397126e-02, -7.43997835e-02,\n",
              "          2.27943544e-01,  4.45403093e-02, -1.31195056e-01,\n",
              "          1.34055879e-01,  3.15768185e-01, -1.54366450e-01,\n",
              "         -2.04696470e-01, -7.86830152e-02, -2.24893486e-01,\n",
              "         -9.80308423e-02, -7.41418151e-03,  1.63873326e-01,\n",
              "         -1.32444304e-01,  2.35599989e-04, -1.33714456e-01,\n",
              "         -7.68298145e-02,  7.50409793e-02,  1.61240393e-02,\n",
              "         -1.52378976e-01, -1.83914307e-01,  9.43028358e-02,\n",
              "         -2.05680116e-01, -1.13087845e-01, -2.12835173e-01,\n",
              "         -6.61533694e-02,  2.19309204e-01,  1.48086109e-01,\n",
              "         -2.03840108e-01, -4.72401189e-02, -4.11454887e-02,\n",
              "         -1.18569347e-01,  2.82943522e-01, -1.91390344e-01,\n",
              "         -1.44122633e-03,  1.19762705e-01, -9.66759812e-03,\n",
              "          1.78504458e-01, -6.04987388e-03,  6.71653965e-02,\n",
              "         -2.24054966e-01],\n",
              "        [ 1.07751006e-01, -5.97861387e-02, -2.95415191e-02,\n",
              "          1.78439720e-02, -4.22911415e-02,  2.22490468e-01,\n",
              "         -5.48801062e-05,  1.25491471e-05,  1.56931026e-01,\n",
              "         -2.27556961e-02, -4.81833748e-03,  2.41943250e-01,\n",
              "         -2.05824593e-02,  2.28842191e-01,  3.07023999e-05,\n",
              "         -1.69234799e-01, -4.10099438e-02, -1.58761372e-01,\n",
              "          1.59879336e-01,  6.85539998e-02, -2.13842872e-01,\n",
              "         -4.43528907e-02,  2.26191146e-01,  7.40984673e-02,\n",
              "         -3.93086324e-02, -9.00323391e-02,  1.54401611e-01,\n",
              "         -1.84131062e-02,  2.12286126e-01, -8.59771153e-04,\n",
              "          1.80868770e-01, -1.23599017e-01, -4.78745035e-02,\n",
              "         -6.22703710e-03,  1.33392475e-01, -1.81954422e-01,\n",
              "          6.05432890e-02,  1.89540608e-02, -1.13607637e-02,\n",
              "         -1.74806354e-01,  1.83300359e-02, -3.76690151e-02,\n",
              "          8.19085655e-02, -9.84176003e-02, -1.71853834e-01,\n",
              "         -7.78155475e-02, -2.50924736e-01, -9.43962897e-02,\n",
              "         -6.60028242e-02, -1.56882714e-01,  1.43205440e-01,\n",
              "         -1.29172219e-01, -2.14686502e-01, -4.83964431e-02,\n",
              "          5.94396588e-02,  4.10356526e-02,  8.80130826e-02,\n",
              "         -8.82383785e-02, -4.34266524e-02,  1.19123358e-01,\n",
              "          1.46404801e-01, -5.29485316e-02, -4.97584630e-03,\n",
              "          4.30696641e-02, -2.04569762e-01, -1.53196760e-01,\n",
              "         -8.45362600e-02,  8.57885511e-02, -1.82170116e-01,\n",
              "         -3.12044850e-02, -1.01221799e-01,  1.80570216e-01,\n",
              "         -9.30127739e-02, -2.71813709e-07,  2.21255119e-01,\n",
              "          1.54903311e-01,  2.42281889e-01, -1.03327718e-03,\n",
              "         -1.62538591e-01, -1.27494812e-02,  4.39688021e-02,\n",
              "          1.79386498e-01, -1.90295767e-01,  2.15943587e-01,\n",
              "         -1.79979212e-01,  1.62266907e-01, -2.22098615e-01,\n",
              "          6.01508155e-02, -1.61143501e-01, -3.45029043e-03,\n",
              "          4.12140423e-02,  9.37967815e-02,  1.69522982e-01,\n",
              "         -2.15725776e-02,  1.84226559e-01,  1.37927606e-04,\n",
              "          1.97243720e-01,  8.81130633e-02,  1.86213502e-01,\n",
              "         -8.57645834e-02]]), array([[-1.05341640e-01],\n",
              "        [-1.58804443e-01],\n",
              "        [ 1.28134023e-01],\n",
              "        [ 1.66373325e-01],\n",
              "        [-2.05624570e-01],\n",
              "        [-1.69616590e-01],\n",
              "        [ 6.08164820e-04],\n",
              "        [-2.75419952e-03],\n",
              "        [ 3.49407305e-01],\n",
              "        [-9.74036987e-03],\n",
              "        [ 6.23195341e-02],\n",
              "        [ 1.38269306e-01],\n",
              "        [-4.20027453e-02],\n",
              "        [ 1.42908136e-01],\n",
              "        [ 3.32040459e-03],\n",
              "        [ 9.93144935e-02],\n",
              "        [-3.27871006e-01],\n",
              "        [ 2.24938506e-01],\n",
              "        [-1.76244991e-02],\n",
              "        [-5.56348641e-02],\n",
              "        [-2.05115767e-01],\n",
              "        [-2.66541926e-01],\n",
              "        [-3.06083866e-02],\n",
              "        [-1.96712941e-01],\n",
              "        [-1.60230615e-02],\n",
              "        [ 2.96191706e-02],\n",
              "        [-8.15233942e-02],\n",
              "        [ 1.14359564e-04],\n",
              "        [-2.30259786e-01],\n",
              "        [-4.41972906e-03],\n",
              "        [ 7.50775408e-02],\n",
              "        [-8.88132008e-02],\n",
              "        [ 4.49162613e-02],\n",
              "        [-1.41568203e-01],\n",
              "        [-2.03335705e-01],\n",
              "        [-8.27535631e-02],\n",
              "        [-1.09399883e-01],\n",
              "        [-5.25445347e-02],\n",
              "        [-2.11102522e-01],\n",
              "        [-1.22548940e-02],\n",
              "        [ 9.11130562e-02],\n",
              "        [-1.63177804e-03],\n",
              "        [-2.28438694e-02],\n",
              "        [ 1.34391606e-02],\n",
              "        [ 4.28593082e-02],\n",
              "        [-4.24637856e-02],\n",
              "        [-3.88939374e-02],\n",
              "        [ 7.09985123e-02],\n",
              "        [-8.89282313e-02],\n",
              "        [ 1.79179586e-01],\n",
              "        [-2.08701221e-01],\n",
              "        [-2.67714844e-01],\n",
              "        [-7.73666187e-03],\n",
              "        [-4.83745170e-03],\n",
              "        [ 1.35880435e-01],\n",
              "        [ 5.16769689e-02],\n",
              "        [-2.36989441e-01],\n",
              "        [ 1.78878651e-01],\n",
              "        [-1.21540636e-03],\n",
              "        [ 1.58745923e-01],\n",
              "        [-1.86394260e-01],\n",
              "        [ 1.87345422e-01],\n",
              "        [-4.53169384e-02],\n",
              "        [-2.85081955e-02],\n",
              "        [-1.69624933e-01],\n",
              "        [ 1.11976804e-02],\n",
              "        [ 6.04082953e-02],\n",
              "        [-1.99791918e-01],\n",
              "        [ 2.07787748e-01],\n",
              "        [ 1.41399446e-02],\n",
              "        [-1.54828146e-01],\n",
              "        [ 1.71670337e-01],\n",
              "        [-7.59974029e-02],\n",
              "        [ 5.36439317e-05],\n",
              "        [ 1.88167528e-01],\n",
              "        [-1.26922884e-01],\n",
              "        [ 2.28169178e-02],\n",
              "        [ 7.23935105e-02],\n",
              "        [ 2.29374370e-01],\n",
              "        [-2.96893831e-02],\n",
              "        [ 1.76433370e-01],\n",
              "        [ 1.15534093e-01],\n",
              "        [-2.02281671e-01],\n",
              "        [-1.01124552e-02],\n",
              "        [ 6.45948970e-02],\n",
              "        [ 8.13953431e-02],\n",
              "        [-4.31906473e-02],\n",
              "        [ 1.49054127e-01],\n",
              "        [ 5.91059351e-02],\n",
              "        [-2.59797701e-01],\n",
              "        [ 1.24275487e-01],\n",
              "        [ 8.14765720e-02],\n",
              "        [ 2.29696951e-01],\n",
              "        [-4.91733249e-02],\n",
              "        [ 3.21177412e-03],\n",
              "        [ 3.42011748e-02],\n",
              "        [-2.27462227e-01],\n",
              "        [ 2.31030816e-01],\n",
              "        [ 2.08262567e-01],\n",
              "        [-1.92965921e-02]])]"
            ]
          },
          "metadata": {
            "tags": []
          },
          "execution_count": 8
        }
      ]
    },
    {
      "cell_type": "code",
      "metadata": {
        "id": "rlrU4OiU0vxQ",
        "colab_type": "code",
        "colab": {}
      },
      "source": [
        "y_pred=mlpc_model.predict(X_test)"
      ],
      "execution_count": 0,
      "outputs": []
    },
    {
      "cell_type": "code",
      "metadata": {
        "id": "0RchCV--1ypd",
        "colab_type": "code",
        "colab": {
          "base_uri": "https://localhost:8080/",
          "height": 34
        },
        "outputId": "67c9fe88-9931-439f-dbf5-bc56fcb1168e"
      },
      "source": [
        "accuracy_score(y_test, y_pred)"
      ],
      "execution_count": 11,
      "outputs": [
        {
          "output_type": "execute_result",
          "data": {
            "text/plain": [
              "0.7229437229437229"
            ]
          },
          "metadata": {
            "tags": []
          },
          "execution_count": 11
        }
      ]
    },
    {
      "cell_type": "markdown",
      "metadata": {
        "id": "CLvFdnTq17xX",
        "colab_type": "text"
      },
      "source": [
        "**Model tuning**"
      ]
    },
    {
      "cell_type": "code",
      "metadata": {
        "id": "e11FLkSx1-gU",
        "colab_type": "code",
        "colab": {}
      },
      "source": [
        "mlpc=MLPClassifier(solver=\"lbfgs\")"
      ],
      "execution_count": 0,
      "outputs": []
    },
    {
      "cell_type": "code",
      "metadata": {
        "id": "yxXk5H8v2Gmf",
        "colab_type": "code",
        "colab": {}
      },
      "source": [
        "mlpc_params={\"alpha\":[1,5,0.1,0.01,0.03,0.005,0.0001],\n",
        "             \"hidden_layer_sizes\":[(10,10), (100,100,100),(100,100),(3,5)]}"
      ],
      "execution_count": 0,
      "outputs": []
    },
    {
      "cell_type": "code",
      "metadata": {
        "id": "x-kiM6O13BRC",
        "colab_type": "code",
        "colab": {
          "base_uri": "https://localhost:8080/",
          "height": 85
        },
        "outputId": "972d8e3f-2104-412f-ba49-27543f9405fa"
      },
      "source": [
        "mlpc_cv_model=GridSearchCV(mlpc,mlpc_params, cv=10, n_jobs=-1, verbose=2).fit(X_train, y_train)"
      ],
      "execution_count": 16,
      "outputs": [
        {
          "output_type": "stream",
          "text": [
            "Fitting 10 folds for each of 28 candidates, totalling 280 fits\n"
          ],
          "name": "stdout"
        },
        {
          "output_type": "stream",
          "text": [
            "[Parallel(n_jobs=-1)]: Using backend LokyBackend with 2 concurrent workers.\n",
            "[Parallel(n_jobs=-1)]: Done  37 tasks      | elapsed:    6.5s\n",
            "[Parallel(n_jobs=-1)]: Done 280 out of 280 | elapsed:   34.2s finished\n"
          ],
          "name": "stderr"
        }
      ]
    },
    {
      "cell_type": "code",
      "metadata": {
        "id": "NlbUX-8n3wC_",
        "colab_type": "code",
        "colab": {
          "base_uri": "https://localhost:8080/",
          "height": 357
        },
        "outputId": "55c8fba3-4d8e-4f75-c6b5-487409b58c25"
      },
      "source": [
        "mlpc_cv_model"
      ],
      "execution_count": 18,
      "outputs": [
        {
          "output_type": "execute_result",
          "data": {
            "text/plain": [
              "GridSearchCV(cv=10, error_score=nan,\n",
              "             estimator=MLPClassifier(activation='relu', alpha=0.0001,\n",
              "                                     batch_size='auto', beta_1=0.9,\n",
              "                                     beta_2=0.999, early_stopping=False,\n",
              "                                     epsilon=1e-08, hidden_layer_sizes=(100,),\n",
              "                                     learning_rate='constant',\n",
              "                                     learning_rate_init=0.001, max_fun=15000,\n",
              "                                     max_iter=200, momentum=0.9,\n",
              "                                     n_iter_no_change=10,\n",
              "                                     nesterovs_momentum=True, power_t=0.5,\n",
              "                                     random_state=None, shuffle=True,\n",
              "                                     solver='lbfgs', tol=0.0001,\n",
              "                                     validation_fraction=0.1, verbose=False,\n",
              "                                     warm_start=False),\n",
              "             iid='deprecated', n_jobs=-1,\n",
              "             param_grid={'alpha': [1, 5, 0.1, 0.01, 0.03, 0.005, 0.0001],\n",
              "                         'hidden_layer_sizes': [(10, 10), (100, 100, 100),\n",
              "                                                (100, 100), (3, 5)]},\n",
              "             pre_dispatch='2*n_jobs', refit=True, return_train_score=False,\n",
              "             scoring=None, verbose=2)"
            ]
          },
          "metadata": {
            "tags": []
          },
          "execution_count": 18
        }
      ]
    },
    {
      "cell_type": "code",
      "metadata": {
        "id": "wFDPhKHz3m7H",
        "colab_type": "code",
        "colab": {
          "base_uri": "https://localhost:8080/",
          "height": 34
        },
        "outputId": "7cf744d9-3e38-4681-b49b-0a1ce4452688"
      },
      "source": [
        "mlpc_cv_model.best_params_"
      ],
      "execution_count": 17,
      "outputs": [
        {
          "output_type": "execute_result",
          "data": {
            "text/plain": [
              "{'alpha': 1, 'hidden_layer_sizes': (10, 10)}"
            ]
          },
          "metadata": {
            "tags": []
          },
          "execution_count": 17
        }
      ]
    },
    {
      "cell_type": "code",
      "metadata": {
        "id": "r2GNretu3rr-",
        "colab_type": "code",
        "colab": {}
      },
      "source": [
        "#final model\n",
        "mlpc_tuned=MLPClassifier(solver=\"lbfgs\", alpha=0.0001, hidden_layer_sizes=(3,5)).fit(X_train, y_train)"
      ],
      "execution_count": 0,
      "outputs": []
    },
    {
      "cell_type": "code",
      "metadata": {
        "id": "MJpUssG44Uwo",
        "colab_type": "code",
        "colab": {}
      },
      "source": [
        "y_pred=mlpc_tuned.predict(X_test)"
      ],
      "execution_count": 0,
      "outputs": []
    },
    {
      "cell_type": "code",
      "metadata": {
        "id": "iumZ1jXv4bno",
        "colab_type": "code",
        "colab": {
          "base_uri": "https://localhost:8080/",
          "height": 34
        },
        "outputId": "a2336e8c-33b5-4cb3-b4fa-7f683cd88470"
      },
      "source": [
        "accuracy_score(y_test, y_pred)"
      ],
      "execution_count": 21,
      "outputs": [
        {
          "output_type": "execute_result",
          "data": {
            "text/plain": [
              "0.6536796536796536"
            ]
          },
          "metadata": {
            "tags": []
          },
          "execution_count": 21
        }
      ]
    },
    {
      "cell_type": "markdown",
      "metadata": {
        "id": "Y059Qess5Ih8",
        "colab_type": "text"
      },
      "source": [
        "Veri setleri genellikle homojendir. Ama ağaca dayalı algoritmalar heterojen veri setleriyle daha iyi çalışır ayrıştırıcılığı yakalamaya çalıştığından dolayı. Burada da standartlaşma işlemi yapılırsa daha iyi olacaktır. "
      ]
    },
    {
      "cell_type": "code",
      "metadata": {
        "id": "VAg9HTWc6Aq7",
        "colab_type": "code",
        "colab": {}
      },
      "source": [
        "#standartlaştırma için üste aşg kodlar eklenir.\n",
        "#scaler=StandardScaler()\n",
        "#scaler.fit(X_train)\n",
        "#X_train=scaler.transform(X_train)\n",
        "#scaler.fit(X_test)\n",
        "#X_test=scaler.transform(X_test) \n",
        "\n",
        "#çalıştırıldığında score artar. Homojen veri setleriyle çalışmayı sevdiğinden dolayı standartlaştırma yapılmaldıır."
      ],
      "execution_count": 0,
      "outputs": []
    }
  ]
}