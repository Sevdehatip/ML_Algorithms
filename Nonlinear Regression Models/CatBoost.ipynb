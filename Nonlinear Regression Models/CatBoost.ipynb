{
  "nbformat": 4,
  "nbformat_minor": 0,
  "metadata": {
    "colab": {
      "name": "CatBoost.ipynb",
      "provenance": []
    },
    "kernelspec": {
      "name": "python3",
      "display_name": "Python 3"
    }
  },
  "cells": [
    {
      "cell_type": "code",
      "metadata": {
        "id": "UvtrN3d_Tt2P",
        "colab_type": "code",
        "colab": {}
      },
      "source": [
        "import numpy as np\n",
        "import pandas as pd\n",
        "from sklearn.model_selection import train_test_split, GridSearchCV\n",
        "from sklearn.metrics import mean_squared_error, r2_score\n",
        "import matplotlib.pyplot as plt\n",
        "from sklearn.preprocessing import scale\n",
        "from sklearn.preprocessing import StandardScaler\n",
        "from sklearn import model_selection\n",
        "from sklearn.linear_model import LinearRegression\n",
        "from sklearn.tree import DecisionTreeRegressor\n",
        "from sklearn.neighbors import KNeighborsRegressor\n",
        "from sklearn.neural_network import MLPRegressor\n",
        "from sklearn.ensemble import RandomForestRegressor\n",
        "from sklearn.ensemble import GradientBoostingRegressor\n",
        "from sklearn import neighbors\n",
        "from sklearn.svm import SVR"
      ],
      "execution_count": 0,
      "outputs": []
    },
    {
      "cell_type": "code",
      "metadata": {
        "id": "UbxKv9GuTyfA",
        "colab_type": "code",
        "colab": {}
      },
      "source": [
        "from warnings import filterwarnings\n",
        "filterwarnings('ignore')"
      ],
      "execution_count": 0,
      "outputs": []
    },
    {
      "cell_type": "code",
      "metadata": {
        "id": "zlNVyVhxT05p",
        "colab_type": "code",
        "colab": {
          "resources": {
            "http://localhost:8080/nbextensions/google.colab/files.js": {
              "data": "Ly8gQ29weXJpZ2h0IDIwMTcgR29vZ2xlIExMQwovLwovLyBMaWNlbnNlZCB1bmRlciB0aGUgQXBhY2hlIExpY2Vuc2UsIFZlcnNpb24gMi4wICh0aGUgIkxpY2Vuc2UiKTsKLy8geW91IG1heSBub3QgdXNlIHRoaXMgZmlsZSBleGNlcHQgaW4gY29tcGxpYW5jZSB3aXRoIHRoZSBMaWNlbnNlLgovLyBZb3UgbWF5IG9idGFpbiBhIGNvcHkgb2YgdGhlIExpY2Vuc2UgYXQKLy8KLy8gICAgICBodHRwOi8vd3d3LmFwYWNoZS5vcmcvbGljZW5zZXMvTElDRU5TRS0yLjAKLy8KLy8gVW5sZXNzIHJlcXVpcmVkIGJ5IGFwcGxpY2FibGUgbGF3IG9yIGFncmVlZCB0byBpbiB3cml0aW5nLCBzb2Z0d2FyZQovLyBkaXN0cmlidXRlZCB1bmRlciB0aGUgTGljZW5zZSBpcyBkaXN0cmlidXRlZCBvbiBhbiAiQVMgSVMiIEJBU0lTLAovLyBXSVRIT1VUIFdBUlJBTlRJRVMgT1IgQ09ORElUSU9OUyBPRiBBTlkgS0lORCwgZWl0aGVyIGV4cHJlc3Mgb3IgaW1wbGllZC4KLy8gU2VlIHRoZSBMaWNlbnNlIGZvciB0aGUgc3BlY2lmaWMgbGFuZ3VhZ2UgZ292ZXJuaW5nIHBlcm1pc3Npb25zIGFuZAovLyBsaW1pdGF0aW9ucyB1bmRlciB0aGUgTGljZW5zZS4KCi8qKgogKiBAZmlsZW92ZXJ2aWV3IEhlbHBlcnMgZm9yIGdvb2dsZS5jb2xhYiBQeXRob24gbW9kdWxlLgogKi8KKGZ1bmN0aW9uKHNjb3BlKSB7CmZ1bmN0aW9uIHNwYW4odGV4dCwgc3R5bGVBdHRyaWJ1dGVzID0ge30pIHsKICBjb25zdCBlbGVtZW50ID0gZG9jdW1lbnQuY3JlYXRlRWxlbWVudCgnc3BhbicpOwogIGVsZW1lbnQudGV4dENvbnRlbnQgPSB0ZXh0OwogIGZvciAoY29uc3Qga2V5IG9mIE9iamVjdC5rZXlzKHN0eWxlQXR0cmlidXRlcykpIHsKICAgIGVsZW1lbnQuc3R5bGVba2V5XSA9IHN0eWxlQXR0cmlidXRlc1trZXldOwogIH0KICByZXR1cm4gZWxlbWVudDsKfQoKLy8gTWF4IG51bWJlciBvZiBieXRlcyB3aGljaCB3aWxsIGJlIHVwbG9hZGVkIGF0IGEgdGltZS4KY29uc3QgTUFYX1BBWUxPQURfU0laRSA9IDEwMCAqIDEwMjQ7Ci8vIE1heCBhbW91bnQgb2YgdGltZSB0byBibG9jayB3YWl0aW5nIGZvciB0aGUgdXNlci4KY29uc3QgRklMRV9DSEFOR0VfVElNRU9VVF9NUyA9IDMwICogMTAwMDsKCmZ1bmN0aW9uIF91cGxvYWRGaWxlcyhpbnB1dElkLCBvdXRwdXRJZCkgewogIGNvbnN0IHN0ZXBzID0gdXBsb2FkRmlsZXNTdGVwKGlucHV0SWQsIG91dHB1dElkKTsKICBjb25zdCBvdXRwdXRFbGVtZW50ID0gZG9jdW1lbnQuZ2V0RWxlbWVudEJ5SWQob3V0cHV0SWQpOwogIC8vIENhY2hlIHN0ZXBzIG9uIHRoZSBvdXRwdXRFbGVtZW50IHRvIG1ha2UgaXQgYXZhaWxhYmxlIGZvciB0aGUgbmV4dCBjYWxsCiAgLy8gdG8gdXBsb2FkRmlsZXNDb250aW51ZSBmcm9tIFB5dGhvbi4KICBvdXRwdXRFbGVtZW50LnN0ZXBzID0gc3RlcHM7CgogIHJldHVybiBfdXBsb2FkRmlsZXNDb250aW51ZShvdXRwdXRJZCk7Cn0KCi8vIFRoaXMgaXMgcm91Z2hseSBhbiBhc3luYyBnZW5lcmF0b3IgKG5vdCBzdXBwb3J0ZWQgaW4gdGhlIGJyb3dzZXIgeWV0KSwKLy8gd2hlcmUgdGhlcmUgYXJlIG11bHRpcGxlIGFzeW5jaHJvbm91cyBzdGVwcyBhbmQgdGhlIFB5dGhvbiBzaWRlIGlzIGdvaW5nCi8vIHRvIHBvbGwgZm9yIGNvbXBsZXRpb24gb2YgZWFjaCBzdGVwLgovLyBUaGlzIHVzZXMgYSBQcm9taXNlIHRvIGJsb2NrIHRoZSBweXRob24gc2lkZSBvbiBjb21wbGV0aW9uIG9mIGVhY2ggc3RlcCwKLy8gdGhlbiBwYXNzZXMgdGhlIHJlc3VsdCBvZiB0aGUgcHJldmlvdXMgc3RlcCBhcyB0aGUgaW5wdXQgdG8gdGhlIG5leHQgc3RlcC4KZnVuY3Rpb24gX3VwbG9hZEZpbGVzQ29udGludWUob3V0cHV0SWQpIHsKICBjb25zdCBvdXRwdXRFbGVtZW50ID0gZG9jdW1lbnQuZ2V0RWxlbWVudEJ5SWQob3V0cHV0SWQpOwogIGNvbnN0IHN0ZXBzID0gb3V0cHV0RWxlbWVudC5zdGVwczsKCiAgY29uc3QgbmV4dCA9IHN0ZXBzLm5leHQob3V0cHV0RWxlbWVudC5sYXN0UHJvbWlzZVZhbHVlKTsKICByZXR1cm4gUHJvbWlzZS5yZXNvbHZlKG5leHQudmFsdWUucHJvbWlzZSkudGhlbigodmFsdWUpID0+IHsKICAgIC8vIENhY2hlIHRoZSBsYXN0IHByb21pc2UgdmFsdWUgdG8gbWFrZSBpdCBhdmFpbGFibGUgdG8gdGhlIG5leHQKICAgIC8vIHN0ZXAgb2YgdGhlIGdlbmVyYXRvci4KICAgIG91dHB1dEVsZW1lbnQubGFzdFByb21pc2VWYWx1ZSA9IHZhbHVlOwogICAgcmV0dXJuIG5leHQudmFsdWUucmVzcG9uc2U7CiAgfSk7Cn0KCi8qKgogKiBHZW5lcmF0b3IgZnVuY3Rpb24gd2hpY2ggaXMgY2FsbGVkIGJldHdlZW4gZWFjaCBhc3luYyBzdGVwIG9mIHRoZSB1cGxvYWQKICogcHJvY2Vzcy4KICogQHBhcmFtIHtzdHJpbmd9IGlucHV0SWQgRWxlbWVudCBJRCBvZiB0aGUgaW5wdXQgZmlsZSBwaWNrZXIgZWxlbWVudC4KICogQHBhcmFtIHtzdHJpbmd9IG91dHB1dElkIEVsZW1lbnQgSUQgb2YgdGhlIG91dHB1dCBkaXNwbGF5LgogKiBAcmV0dXJuIHshSXRlcmFibGU8IU9iamVjdD59IEl0ZXJhYmxlIG9mIG5leHQgc3RlcHMuCiAqLwpmdW5jdGlvbiogdXBsb2FkRmlsZXNTdGVwKGlucHV0SWQsIG91dHB1dElkKSB7CiAgY29uc3QgaW5wdXRFbGVtZW50ID0gZG9jdW1lbnQuZ2V0RWxlbWVudEJ5SWQoaW5wdXRJZCk7CiAgaW5wdXRFbGVtZW50LmRpc2FibGVkID0gZmFsc2U7CgogIGNvbnN0IG91dHB1dEVsZW1lbnQgPSBkb2N1bWVudC5nZXRFbGVtZW50QnlJZChvdXRwdXRJZCk7CiAgb3V0cHV0RWxlbWVudC5pbm5lckhUTUwgPSAnJzsKCiAgY29uc3QgcGlja2VkUHJvbWlzZSA9IG5ldyBQcm9taXNlKChyZXNvbHZlKSA9PiB7CiAgICBpbnB1dEVsZW1lbnQuYWRkRXZlbnRMaXN0ZW5lcignY2hhbmdlJywgKGUpID0+IHsKICAgICAgcmVzb2x2ZShlLnRhcmdldC5maWxlcyk7CiAgICB9KTsKICB9KTsKCiAgY29uc3QgY2FuY2VsID0gZG9jdW1lbnQuY3JlYXRlRWxlbWVudCgnYnV0dG9uJyk7CiAgaW5wdXRFbGVtZW50LnBhcmVudEVsZW1lbnQuYXBwZW5kQ2hpbGQoY2FuY2VsKTsKICBjYW5jZWwudGV4dENvbnRlbnQgPSAnQ2FuY2VsIHVwbG9hZCc7CiAgY29uc3QgY2FuY2VsUHJvbWlzZSA9IG5ldyBQcm9taXNlKChyZXNvbHZlKSA9PiB7CiAgICBjYW5jZWwub25jbGljayA9ICgpID0+IHsKICAgICAgcmVzb2x2ZShudWxsKTsKICAgIH07CiAgfSk7CgogIC8vIENhbmNlbCB1cGxvYWQgaWYgdXNlciBoYXNuJ3QgcGlja2VkIGFueXRoaW5nIGluIHRpbWVvdXQuCiAgY29uc3QgdGltZW91dFByb21pc2UgPSBuZXcgUHJvbWlzZSgocmVzb2x2ZSkgPT4gewogICAgc2V0VGltZW91dCgoKSA9PiB7CiAgICAgIHJlc29sdmUobnVsbCk7CiAgICB9LCBGSUxFX0NIQU5HRV9USU1FT1VUX01TKTsKICB9KTsKCiAgLy8gV2FpdCBmb3IgdGhlIHVzZXIgdG8gcGljayB0aGUgZmlsZXMuCiAgY29uc3QgZmlsZXMgPSB5aWVsZCB7CiAgICBwcm9taXNlOiBQcm9taXNlLnJhY2UoW3BpY2tlZFByb21pc2UsIHRpbWVvdXRQcm9taXNlLCBjYW5jZWxQcm9taXNlXSksCiAgICByZXNwb25zZTogewogICAgICBhY3Rpb246ICdzdGFydGluZycsCiAgICB9CiAgfTsKCiAgaWYgKCFmaWxlcykgewogICAgcmV0dXJuIHsKICAgICAgcmVzcG9uc2U6IHsKICAgICAgICBhY3Rpb246ICdjb21wbGV0ZScsCiAgICAgIH0KICAgIH07CiAgfQoKICBjYW5jZWwucmVtb3ZlKCk7CgogIC8vIERpc2FibGUgdGhlIGlucHV0IGVsZW1lbnQgc2luY2UgZnVydGhlciBwaWNrcyBhcmUgbm90IGFsbG93ZWQuCiAgaW5wdXRFbGVtZW50LmRpc2FibGVkID0gdHJ1ZTsKCiAgZm9yIChjb25zdCBmaWxlIG9mIGZpbGVzKSB7CiAgICBjb25zdCBsaSA9IGRvY3VtZW50LmNyZWF0ZUVsZW1lbnQoJ2xpJyk7CiAgICBsaS5hcHBlbmQoc3BhbihmaWxlLm5hbWUsIHtmb250V2VpZ2h0OiAnYm9sZCd9KSk7CiAgICBsaS5hcHBlbmQoc3BhbigKICAgICAgICBgKCR7ZmlsZS50eXBlIHx8ICduL2EnfSkgLSAke2ZpbGUuc2l6ZX0gYnl0ZXMsIGAgKwogICAgICAgIGBsYXN0IG1vZGlmaWVkOiAkewogICAgICAgICAgICBmaWxlLmxhc3RNb2RpZmllZERhdGUgPyBmaWxlLmxhc3RNb2RpZmllZERhdGUudG9Mb2NhbGVEYXRlU3RyaW5nKCkgOgogICAgICAgICAgICAgICAgICAgICAgICAgICAgICAgICAgICAnbi9hJ30gLSBgKSk7CiAgICBjb25zdCBwZXJjZW50ID0gc3BhbignMCUgZG9uZScpOwogICAgbGkuYXBwZW5kQ2hpbGQocGVyY2VudCk7CgogICAgb3V0cHV0RWxlbWVudC5hcHBlbmRDaGlsZChsaSk7CgogICAgY29uc3QgZmlsZURhdGFQcm9taXNlID0gbmV3IFByb21pc2UoKHJlc29sdmUpID0+IHsKICAgICAgY29uc3QgcmVhZGVyID0gbmV3IEZpbGVSZWFkZXIoKTsKICAgICAgcmVhZGVyLm9ubG9hZCA9IChlKSA9PiB7CiAgICAgICAgcmVzb2x2ZShlLnRhcmdldC5yZXN1bHQpOwogICAgICB9OwogICAgICByZWFkZXIucmVhZEFzQXJyYXlCdWZmZXIoZmlsZSk7CiAgICB9KTsKICAgIC8vIFdhaXQgZm9yIHRoZSBkYXRhIHRvIGJlIHJlYWR5LgogICAgbGV0IGZpbGVEYXRhID0geWllbGQgewogICAgICBwcm9taXNlOiBmaWxlRGF0YVByb21pc2UsCiAgICAgIHJlc3BvbnNlOiB7CiAgICAgICAgYWN0aW9uOiAnY29udGludWUnLAogICAgICB9CiAgICB9OwoKICAgIC8vIFVzZSBhIGNodW5rZWQgc2VuZGluZyB0byBhdm9pZCBtZXNzYWdlIHNpemUgbGltaXRzLiBTZWUgYi82MjExNTY2MC4KICAgIGxldCBwb3NpdGlvbiA9IDA7CiAgICB3aGlsZSAocG9zaXRpb24gPCBmaWxlRGF0YS5ieXRlTGVuZ3RoKSB7CiAgICAgIGNvbnN0IGxlbmd0aCA9IE1hdGgubWluKGZpbGVEYXRhLmJ5dGVMZW5ndGggLSBwb3NpdGlvbiwgTUFYX1BBWUxPQURfU0laRSk7CiAgICAgIGNvbnN0IGNodW5rID0gbmV3IFVpbnQ4QXJyYXkoZmlsZURhdGEsIHBvc2l0aW9uLCBsZW5ndGgpOwogICAgICBwb3NpdGlvbiArPSBsZW5ndGg7CgogICAgICBjb25zdCBiYXNlNjQgPSBidG9hKFN0cmluZy5mcm9tQ2hhckNvZGUuYXBwbHkobnVsbCwgY2h1bmspKTsKICAgICAgeWllbGQgewogICAgICAgIHJlc3BvbnNlOiB7CiAgICAgICAgICBhY3Rpb246ICdhcHBlbmQnLAogICAgICAgICAgZmlsZTogZmlsZS5uYW1lLAogICAgICAgICAgZGF0YTogYmFzZTY0LAogICAgICAgIH0sCiAgICAgIH07CiAgICAgIHBlcmNlbnQudGV4dENvbnRlbnQgPQogICAgICAgICAgYCR7TWF0aC5yb3VuZCgocG9zaXRpb24gLyBmaWxlRGF0YS5ieXRlTGVuZ3RoKSAqIDEwMCl9JSBkb25lYDsKICAgIH0KICB9CgogIC8vIEFsbCBkb25lLgogIHlpZWxkIHsKICAgIHJlc3BvbnNlOiB7CiAgICAgIGFjdGlvbjogJ2NvbXBsZXRlJywKICAgIH0KICB9Owp9CgpzY29wZS5nb29nbGUgPSBzY29wZS5nb29nbGUgfHwge307CnNjb3BlLmdvb2dsZS5jb2xhYiA9IHNjb3BlLmdvb2dsZS5jb2xhYiB8fCB7fTsKc2NvcGUuZ29vZ2xlLmNvbGFiLl9maWxlcyA9IHsKICBfdXBsb2FkRmlsZXMsCiAgX3VwbG9hZEZpbGVzQ29udGludWUsCn07Cn0pKHNlbGYpOwo=",
              "ok": true,
              "headers": [
                [
                  "content-type",
                  "application/javascript"
                ]
              ],
              "status": 200,
              "status_text": ""
            }
          },
          "base_uri": "https://localhost:8080/",
          "height": 74
        },
        "outputId": "786fea1f-6ae6-440e-e681-2c8f4fbdda41"
      },
      "source": [
        "from google.colab import files\n",
        "\n",
        "uploaded = files.upload()"
      ],
      "execution_count": 3,
      "outputs": [
        {
          "output_type": "display_data",
          "data": {
            "text/html": [
              "\n",
              "     <input type=\"file\" id=\"files-2f46b8fd-b0ba-4743-bcd0-14e8a285a272\" name=\"files[]\" multiple disabled />\n",
              "     <output id=\"result-2f46b8fd-b0ba-4743-bcd0-14e8a285a272\">\n",
              "      Upload widget is only available when the cell has been executed in the\n",
              "      current browser session. Please rerun this cell to enable.\n",
              "      </output>\n",
              "      <script src=\"/nbextensions/google.colab/files.js\"></script> "
            ],
            "text/plain": [
              "<IPython.core.display.HTML object>"
            ]
          },
          "metadata": {
            "tags": []
          }
        },
        {
          "output_type": "stream",
          "text": [
            "Saving Hitter.csv to Hitter.csv\n"
          ],
          "name": "stdout"
        }
      ]
    },
    {
      "cell_type": "code",
      "metadata": {
        "id": "mzHdNgQ7T3lv",
        "colab_type": "code",
        "colab": {}
      },
      "source": [
        "df=pd.read_csv(\"./Hitter.csv\")\n",
        "df=df.dropna() #eksik değerler siliniyor\n",
        "dms=pd.get_dummies(df[['League', 'Division', 'NewLeague']]) #kategorik değişkenler dummy e çevrildi.One hot encoding yaklaşımı yapılmış oluyor.\n",
        "y=df[\"Salary\"]  #bağımlı değişken\n",
        "X_=df.drop(['Salary','League','Division','NewLeague'], axis=1).astype('float64')\n",
        "X=pd.concat([X_, dms[['League_N','Division_W','NewLeague_N']]], axis=1) #oluşturulan dummyler ve bir önceki veri seti bir araya getirilerek bağımsız değişkenlerin nihai hali elde edildi.\n",
        "X_train, X_test, y_train, y_test=train_test_split(X,\n",
        "                                                  y,\n",
        "                                                  test_size=0.25,\n",
        "                                                  random_state=42) #veri seti 25e 75 ayrılmış oldu. test train"
      ],
      "execution_count": 0,
      "outputs": []
    },
    {
      "cell_type": "code",
      "metadata": {
        "id": "ThtPzgbtT8x5",
        "colab_type": "code",
        "colab": {
          "base_uri": "https://localhost:8080/",
          "height": 343
        },
        "outputId": "3d88569a-3bb9-4e50-f039-9435d4cae052"
      },
      "source": [
        "!pip install catboost"
      ],
      "execution_count": 5,
      "outputs": [
        {
          "output_type": "stream",
          "text": [
            "Collecting catboost\n",
            "\u001b[?25l  Downloading https://files.pythonhosted.org/packages/b1/61/2b8106c8870601671d99ca94d8b8d180f2b740b7cdb95c930147508abcf9/catboost-0.23-cp36-none-manylinux1_x86_64.whl (64.7MB)\n",
            "\u001b[K     |████████████████████████████████| 64.8MB 59kB/s \n",
            "\u001b[?25hRequirement already satisfied: plotly in /usr/local/lib/python3.6/dist-packages (from catboost) (4.4.1)\n",
            "Requirement already satisfied: matplotlib in /usr/local/lib/python3.6/dist-packages (from catboost) (3.2.1)\n",
            "Requirement already satisfied: pandas>=0.24.0 in /usr/local/lib/python3.6/dist-packages (from catboost) (1.0.3)\n",
            "Requirement already satisfied: six in /usr/local/lib/python3.6/dist-packages (from catboost) (1.12.0)\n",
            "Requirement already satisfied: scipy in /usr/local/lib/python3.6/dist-packages (from catboost) (1.4.1)\n",
            "Requirement already satisfied: graphviz in /usr/local/lib/python3.6/dist-packages (from catboost) (0.10.1)\n",
            "Requirement already satisfied: numpy>=1.16.0 in /usr/local/lib/python3.6/dist-packages (from catboost) (1.18.3)\n",
            "Requirement already satisfied: retrying>=1.3.3 in /usr/local/lib/python3.6/dist-packages (from plotly->catboost) (1.3.3)\n",
            "Requirement already satisfied: pyparsing!=2.0.4,!=2.1.2,!=2.1.6,>=2.0.1 in /usr/local/lib/python3.6/dist-packages (from matplotlib->catboost) (2.4.7)\n",
            "Requirement already satisfied: kiwisolver>=1.0.1 in /usr/local/lib/python3.6/dist-packages (from matplotlib->catboost) (1.2.0)\n",
            "Requirement already satisfied: python-dateutil>=2.1 in /usr/local/lib/python3.6/dist-packages (from matplotlib->catboost) (2.8.1)\n",
            "Requirement already satisfied: cycler>=0.10 in /usr/local/lib/python3.6/dist-packages (from matplotlib->catboost) (0.10.0)\n",
            "Requirement already satisfied: pytz>=2017.2 in /usr/local/lib/python3.6/dist-packages (from pandas>=0.24.0->catboost) (2018.9)\n",
            "Installing collected packages: catboost\n",
            "Successfully installed catboost-0.23\n"
          ],
          "name": "stdout"
        }
      ]
    },
    {
      "cell_type": "code",
      "metadata": {
        "id": "uM-j0VfBT_8m",
        "colab_type": "code",
        "colab": {}
      },
      "source": [
        "from catboost import CatBoostRegressor"
      ],
      "execution_count": 0,
      "outputs": []
    },
    {
      "cell_type": "code",
      "metadata": {
        "id": "xX0KPIErUGOi",
        "colab_type": "code",
        "colab": {}
      },
      "source": [
        "catb_model=CatBoostRegressor().fit(X_train,y_train)"
      ],
      "execution_count": 0,
      "outputs": []
    },
    {
      "cell_type": "code",
      "metadata": {
        "id": "0VfjU46yUSlr",
        "colab_type": "code",
        "colab": {}
      },
      "source": [
        "y_pred=catb_model.predict(X_test)"
      ],
      "execution_count": 0,
      "outputs": []
    },
    {
      "cell_type": "code",
      "metadata": {
        "id": "E46GhUFaUaK4",
        "colab_type": "code",
        "colab": {
          "base_uri": "https://localhost:8080/",
          "height": 34
        },
        "outputId": "7aeb7598-b2f3-45bd-c357-9056d390b839"
      },
      "source": [
        "np.sqrt(mean_squared_error(y_test, y_pred))"
      ],
      "execution_count": 9,
      "outputs": [
        {
          "output_type": "execute_result",
          "data": {
            "text/plain": [
              "350.2683163098795"
            ]
          },
          "metadata": {
            "tags": []
          },
          "execution_count": 9
        }
      ]
    },
    {
      "cell_type": "markdown",
      "metadata": {
        "id": "vMoRC2ocUoTA",
        "colab_type": "text"
      },
      "source": [
        "**Model Tuning**"
      ]
    },
    {
      "cell_type": "code",
      "metadata": {
        "id": "ok_W85n7UrEi",
        "colab_type": "code",
        "colab": {}
      },
      "source": [
        "catb_params={\"iterations\":[200,500,1000],\n",
        "             \"learning_rate\":[0.01,0.1],\n",
        "             \"depth\":[3,6,8]}"
      ],
      "execution_count": 0,
      "outputs": []
    },
    {
      "cell_type": "code",
      "metadata": {
        "id": "hz4mWG-fVH2h",
        "colab_type": "code",
        "colab": {}
      },
      "source": [
        "catb_model=CatBoostRegressor()"
      ],
      "execution_count": 0,
      "outputs": []
    },
    {
      "cell_type": "code",
      "metadata": {
        "id": "oWVKPq7qVMc9",
        "colab_type": "code",
        "colab": {
          "base_uri": "https://localhost:8080/",
          "height": 1000
        },
        "outputId": "70b77aef-3e94-4af2-a3bc-4fe778f2e0c6"
      },
      "source": [
        "catb_cv_model=GridSearchCV(catb_model, catb_params, cv=5, n_jobs=-1, verbose=2).fit(X_train, y_train)"
      ],
      "execution_count": 12,
      "outputs": [
        {
          "output_type": "stream",
          "text": [
            "Fitting 5 folds for each of 18 candidates, totalling 90 fits\n"
          ],
          "name": "stdout"
        },
        {
          "output_type": "stream",
          "text": [
            "[Parallel(n_jobs=-1)]: Using backend LokyBackend with 2 concurrent workers.\n",
            "[Parallel(n_jobs=-1)]: Done  37 tasks      | elapsed:   17.2s\n"
          ],
          "name": "stderr"
        },
        {
          "output_type": "stream",
          "text": [
            "0:\tlearn: 425.7900818\ttotal: 823us\tremaining: 164ms\n",
            "1:\tlearn: 404.8723520\ttotal: 1.75ms\tremaining: 174ms\n",
            "2:\tlearn: 387.4057666\ttotal: 2.56ms\tremaining: 168ms\n",
            "3:\tlearn: 372.2801584\ttotal: 3.25ms\tremaining: 159ms\n",
            "4:\tlearn: 358.9204229\ttotal: 3.94ms\tremaining: 154ms\n",
            "5:\tlearn: 347.0083933\ttotal: 4.64ms\tremaining: 150ms\n",
            "6:\tlearn: 336.0130818\ttotal: 5.39ms\tremaining: 149ms\n",
            "7:\tlearn: 324.3923300\ttotal: 6.11ms\tremaining: 147ms\n",
            "8:\tlearn: 314.8690957\ttotal: 6.78ms\tremaining: 144ms\n",
            "9:\tlearn: 308.5075563\ttotal: 7.44ms\tremaining: 141ms\n",
            "10:\tlearn: 298.8587285\ttotal: 8.17ms\tremaining: 140ms\n",
            "11:\tlearn: 294.7655438\ttotal: 8.9ms\tremaining: 139ms\n",
            "12:\tlearn: 288.0697862\ttotal: 9.61ms\tremaining: 138ms\n",
            "13:\tlearn: 282.6697154\ttotal: 10.4ms\tremaining: 138ms\n",
            "14:\tlearn: 277.6121667\ttotal: 11.1ms\tremaining: 136ms\n",
            "15:\tlearn: 273.4383979\ttotal: 11.8ms\tremaining: 136ms\n",
            "16:\tlearn: 269.1556201\ttotal: 12.6ms\tremaining: 135ms\n",
            "17:\tlearn: 264.8098704\ttotal: 13.3ms\tremaining: 134ms\n",
            "18:\tlearn: 261.6700768\ttotal: 14ms\tremaining: 134ms\n",
            "19:\tlearn: 257.3961290\ttotal: 14.8ms\tremaining: 133ms\n",
            "20:\tlearn: 252.2691509\ttotal: 15.5ms\tremaining: 132ms\n",
            "21:\tlearn: 249.0686482\ttotal: 16.2ms\tremaining: 131ms\n",
            "22:\tlearn: 244.1881041\ttotal: 16.9ms\tremaining: 130ms\n",
            "23:\tlearn: 242.1696687\ttotal: 17.7ms\tremaining: 130ms\n",
            "24:\tlearn: 239.2131476\ttotal: 18.4ms\tremaining: 129ms\n",
            "25:\tlearn: 236.6883901\ttotal: 19.2ms\tremaining: 128ms\n",
            "26:\tlearn: 234.5295613\ttotal: 19.9ms\tremaining: 128ms\n",
            "27:\tlearn: 231.7788834\ttotal: 20.6ms\tremaining: 127ms\n",
            "28:\tlearn: 228.8020330\ttotal: 21.4ms\tremaining: 126ms\n",
            "29:\tlearn: 226.8420565\ttotal: 22.1ms\tremaining: 125ms\n",
            "30:\tlearn: 224.0686558\ttotal: 22.8ms\tremaining: 124ms\n",
            "31:\tlearn: 222.6644699\ttotal: 23.6ms\tremaining: 124ms\n",
            "32:\tlearn: 221.6889573\ttotal: 24.3ms\tremaining: 123ms\n",
            "33:\tlearn: 220.5171653\ttotal: 24.9ms\tremaining: 122ms\n",
            "34:\tlearn: 217.7686033\ttotal: 25.7ms\tremaining: 121ms\n",
            "35:\tlearn: 214.8462789\ttotal: 26.4ms\tremaining: 120ms\n",
            "36:\tlearn: 214.4799251\ttotal: 27.1ms\tremaining: 119ms\n",
            "37:\tlearn: 212.3480429\ttotal: 27.9ms\tremaining: 119ms\n",
            "38:\tlearn: 210.0040644\ttotal: 28.6ms\tremaining: 118ms\n",
            "39:\tlearn: 208.3086913\ttotal: 29.3ms\tremaining: 117ms\n",
            "40:\tlearn: 207.5469119\ttotal: 30ms\tremaining: 116ms\n",
            "41:\tlearn: 205.9351113\ttotal: 30.7ms\tremaining: 116ms\n",
            "42:\tlearn: 205.3580824\ttotal: 31.4ms\tremaining: 115ms\n",
            "43:\tlearn: 204.6204266\ttotal: 32.2ms\tremaining: 114ms\n",
            "44:\tlearn: 202.5023220\ttotal: 32.9ms\tremaining: 113ms\n",
            "45:\tlearn: 201.4347853\ttotal: 33.6ms\tremaining: 113ms\n",
            "46:\tlearn: 200.8752553\ttotal: 34.4ms\tremaining: 112ms\n",
            "47:\tlearn: 200.4047344\ttotal: 35.1ms\tremaining: 111ms\n",
            "48:\tlearn: 197.5433004\ttotal: 35.8ms\tremaining: 110ms\n",
            "49:\tlearn: 194.6943292\ttotal: 36.5ms\tremaining: 110ms\n",
            "50:\tlearn: 194.3011982\ttotal: 37.3ms\tremaining: 109ms\n",
            "51:\tlearn: 193.4011843\ttotal: 38.1ms\tremaining: 108ms\n",
            "52:\tlearn: 193.0109753\ttotal: 38.8ms\tremaining: 108ms\n",
            "53:\tlearn: 192.6071142\ttotal: 39.5ms\tremaining: 107ms\n",
            "54:\tlearn: 191.9666153\ttotal: 40.3ms\tremaining: 106ms\n",
            "55:\tlearn: 191.5789727\ttotal: 41ms\tremaining: 105ms\n",
            "56:\tlearn: 190.7186284\ttotal: 41.7ms\tremaining: 105ms\n",
            "57:\tlearn: 190.4543087\ttotal: 42.4ms\tremaining: 104ms\n",
            "58:\tlearn: 190.1336317\ttotal: 43.1ms\tremaining: 103ms\n",
            "59:\tlearn: 188.2286484\ttotal: 43.9ms\tremaining: 102ms\n",
            "60:\tlearn: 187.7652417\ttotal: 44.6ms\tremaining: 102ms\n",
            "61:\tlearn: 187.4227950\ttotal: 45.3ms\tremaining: 101ms\n",
            "62:\tlearn: 186.9289182\ttotal: 46ms\tremaining: 100ms\n",
            "63:\tlearn: 185.2993487\ttotal: 46.7ms\tremaining: 99.3ms\n",
            "64:\tlearn: 185.0349598\ttotal: 47.4ms\tremaining: 98.5ms\n",
            "65:\tlearn: 183.9773430\ttotal: 48.2ms\tremaining: 97.8ms\n",
            "66:\tlearn: 183.4463166\ttotal: 48.9ms\tremaining: 97.2ms\n",
            "67:\tlearn: 181.6627740\ttotal: 49.7ms\tremaining: 96.4ms\n",
            "68:\tlearn: 179.8785055\ttotal: 50.4ms\tremaining: 95.7ms\n",
            "69:\tlearn: 179.6737527\ttotal: 51.2ms\tremaining: 95ms\n",
            "70:\tlearn: 177.0830981\ttotal: 51.9ms\tremaining: 94.2ms\n",
            "71:\tlearn: 176.5917790\ttotal: 52.6ms\tremaining: 93.5ms\n",
            "72:\tlearn: 176.1240502\ttotal: 53.4ms\tremaining: 92.8ms\n",
            "73:\tlearn: 174.4828953\ttotal: 54.1ms\tremaining: 92.2ms\n",
            "74:\tlearn: 173.4220482\ttotal: 54.8ms\tremaining: 91.4ms\n",
            "75:\tlearn: 171.9903405\ttotal: 55.5ms\tremaining: 90.6ms\n",
            "76:\tlearn: 171.5803116\ttotal: 56.2ms\tremaining: 89.8ms\n",
            "77:\tlearn: 170.1411594\ttotal: 57ms\tremaining: 89.1ms\n",
            "78:\tlearn: 167.9868133\ttotal: 57.7ms\tremaining: 88.4ms\n",
            "79:\tlearn: 166.5304475\ttotal: 58.4ms\tremaining: 87.7ms\n",
            "80:\tlearn: 166.1741622\ttotal: 59.2ms\tremaining: 87ms\n",
            "81:\tlearn: 165.8411762\ttotal: 59.9ms\tremaining: 86.2ms\n",
            "82:\tlearn: 165.1041583\ttotal: 60.5ms\tremaining: 85.3ms\n",
            "83:\tlearn: 163.5641543\ttotal: 61.2ms\tremaining: 84.5ms\n",
            "84:\tlearn: 163.2003311\ttotal: 62ms\tremaining: 83.8ms\n",
            "85:\tlearn: 161.1781702\ttotal: 62.6ms\tremaining: 83ms\n",
            "86:\tlearn: 160.8727658\ttotal: 63.4ms\tremaining: 82.3ms\n",
            "87:\tlearn: 159.7954077\ttotal: 64.1ms\tremaining: 81.5ms\n",
            "88:\tlearn: 158.8759132\ttotal: 64.7ms\tremaining: 80.8ms\n",
            "89:\tlearn: 158.4831323\ttotal: 65.5ms\tremaining: 80ms\n",
            "90:\tlearn: 157.4808127\ttotal: 66.2ms\tremaining: 79.3ms\n",
            "91:\tlearn: 157.1703230\ttotal: 66.9ms\tremaining: 78.6ms\n",
            "92:\tlearn: 155.3184755\ttotal: 67.7ms\tremaining: 77.9ms\n",
            "93:\tlearn: 154.3988879\ttotal: 68.4ms\tremaining: 77.2ms\n",
            "94:\tlearn: 153.4591935\ttotal: 69.2ms\tremaining: 76.4ms\n",
            "95:\tlearn: 153.1206893\ttotal: 69.9ms\tremaining: 75.7ms\n",
            "96:\tlearn: 152.7897351\ttotal: 70.6ms\tremaining: 75ms\n",
            "97:\tlearn: 150.9293164\ttotal: 71.3ms\tremaining: 74.2ms\n",
            "98:\tlearn: 149.7127171\ttotal: 72.1ms\tremaining: 73.5ms\n",
            "99:\tlearn: 149.5089324\ttotal: 72.8ms\tremaining: 72.8ms\n",
            "100:\tlearn: 149.3156312\ttotal: 73.6ms\tremaining: 72.1ms\n",
            "101:\tlearn: 147.7226718\ttotal: 74.3ms\tremaining: 71.4ms\n",
            "102:\tlearn: 146.7692282\ttotal: 75ms\tremaining: 70.6ms\n",
            "103:\tlearn: 145.9084983\ttotal: 75.7ms\tremaining: 69.9ms\n",
            "104:\tlearn: 144.8780979\ttotal: 76.4ms\tremaining: 69.1ms\n",
            "105:\tlearn: 143.8090268\ttotal: 77.2ms\tremaining: 68.4ms\n",
            "106:\tlearn: 143.1272551\ttotal: 77.8ms\tremaining: 67.7ms\n",
            "107:\tlearn: 142.4863018\ttotal: 78.6ms\tremaining: 66.9ms\n",
            "108:\tlearn: 141.4861279\ttotal: 79.4ms\tremaining: 66.3ms\n",
            "109:\tlearn: 140.8689530\ttotal: 80.2ms\tremaining: 65.6ms\n",
            "110:\tlearn: 140.4009570\ttotal: 80.9ms\tremaining: 64.9ms\n",
            "111:\tlearn: 140.0344439\ttotal: 81.6ms\tremaining: 64.1ms\n",
            "112:\tlearn: 139.4290096\ttotal: 82.4ms\tremaining: 63.4ms\n",
            "113:\tlearn: 139.2008874\ttotal: 83ms\tremaining: 62.6ms\n",
            "114:\tlearn: 138.6000188\ttotal: 83.7ms\tremaining: 61.9ms\n",
            "115:\tlearn: 138.3962706\ttotal: 84.4ms\tremaining: 61.1ms\n",
            "116:\tlearn: 138.1737256\ttotal: 85.2ms\tremaining: 60.4ms\n",
            "117:\tlearn: 137.6342361\ttotal: 85.9ms\tremaining: 59.7ms\n",
            "118:\tlearn: 136.7119826\ttotal: 86.7ms\tremaining: 59ms\n",
            "119:\tlearn: 135.3057402\ttotal: 87.4ms\tremaining: 58.3ms\n",
            "120:\tlearn: 134.4797815\ttotal: 88.1ms\tremaining: 57.5ms\n",
            "121:\tlearn: 133.0774331\ttotal: 88.8ms\tremaining: 56.8ms\n",
            "122:\tlearn: 131.8739238\ttotal: 89.5ms\tremaining: 56.1ms\n",
            "123:\tlearn: 131.3203837\ttotal: 90.3ms\tremaining: 55.3ms\n",
            "124:\tlearn: 130.8294604\ttotal: 91ms\tremaining: 54.6ms\n",
            "125:\tlearn: 130.6107905\ttotal: 91.7ms\tremaining: 53.9ms\n",
            "126:\tlearn: 130.1614924\ttotal: 92.4ms\tremaining: 53.1ms\n",
            "127:\tlearn: 129.3166972\ttotal: 93.1ms\tremaining: 52.4ms\n",
            "128:\tlearn: 129.1038672\ttotal: 93.8ms\tremaining: 51.6ms\n",
            "129:\tlearn: 128.9594874\ttotal: 94.6ms\tremaining: 50.9ms\n",
            "130:\tlearn: 128.1849638\ttotal: 95.3ms\tremaining: 50.2ms\n",
            "131:\tlearn: 128.0307033\ttotal: 96ms\tremaining: 49.5ms\n",
            "132:\tlearn: 127.3373882\ttotal: 96.8ms\tremaining: 48.7ms\n",
            "133:\tlearn: 126.2856989\ttotal: 97.5ms\tremaining: 48ms\n",
            "134:\tlearn: 126.1379832\ttotal: 98.3ms\tremaining: 47.3ms\n",
            "135:\tlearn: 126.0180019\ttotal: 99ms\tremaining: 46.6ms\n",
            "136:\tlearn: 125.8843963\ttotal: 99.7ms\tremaining: 45.9ms\n",
            "137:\tlearn: 125.7576333\ttotal: 100ms\tremaining: 45.1ms\n",
            "138:\tlearn: 125.4794581\ttotal: 101ms\tremaining: 44.4ms\n",
            "139:\tlearn: 124.7920270\ttotal: 102ms\tremaining: 43.6ms\n",
            "140:\tlearn: 124.6530278\ttotal: 102ms\tremaining: 42.9ms\n",
            "141:\tlearn: 123.4539010\ttotal: 103ms\tremaining: 42.2ms\n",
            "142:\tlearn: 122.8980001\ttotal: 104ms\tremaining: 41.4ms\n",
            "143:\tlearn: 122.0911177\ttotal: 105ms\tremaining: 40.7ms\n",
            "144:\tlearn: 121.1209154\ttotal: 105ms\tremaining: 40ms\n",
            "145:\tlearn: 120.1613553\ttotal: 106ms\tremaining: 39.2ms\n",
            "146:\tlearn: 119.1894727\ttotal: 107ms\tremaining: 38.5ms\n",
            "147:\tlearn: 118.0325732\ttotal: 108ms\tremaining: 37.8ms\n",
            "148:\tlearn: 117.9138240\ttotal: 108ms\tremaining: 37.1ms\n",
            "149:\tlearn: 117.3831462\ttotal: 109ms\tremaining: 36.3ms\n",
            "150:\tlearn: 116.8475244\ttotal: 110ms\tremaining: 35.6ms\n",
            "151:\tlearn: 116.3821954\ttotal: 111ms\tremaining: 35.2ms\n",
            "152:\tlearn: 115.5293176\ttotal: 113ms\tremaining: 34.6ms\n",
            "153:\tlearn: 115.0975175\ttotal: 114ms\tremaining: 34ms\n",
            "154:\tlearn: 114.0649594\ttotal: 115ms\tremaining: 33.4ms\n",
            "155:\tlearn: 113.2562326\ttotal: 116ms\tremaining: 32.8ms\n",
            "156:\tlearn: 112.7557871\ttotal: 117ms\tremaining: 32.1ms\n",
            "157:\tlearn: 112.5657565\ttotal: 119ms\tremaining: 31.5ms\n",
            "158:\tlearn: 112.3541525\ttotal: 120ms\tremaining: 30.9ms\n",
            "159:\tlearn: 111.8527982\ttotal: 121ms\tremaining: 30.2ms\n",
            "160:\tlearn: 111.1619644\ttotal: 121ms\tremaining: 29.4ms\n",
            "161:\tlearn: 110.3588257\ttotal: 122ms\tremaining: 28.7ms\n",
            "162:\tlearn: 109.6664293\ttotal: 123ms\tremaining: 27.9ms\n",
            "163:\tlearn: 109.5577303\ttotal: 124ms\tremaining: 27.2ms\n",
            "164:\tlearn: 109.0570285\ttotal: 124ms\tremaining: 26.4ms\n",
            "165:\tlearn: 108.7601467\ttotal: 125ms\tremaining: 25.6ms\n",
            "166:\tlearn: 108.0448620\ttotal: 126ms\tremaining: 24.9ms\n",
            "167:\tlearn: 107.5593372\ttotal: 127ms\tremaining: 24.1ms\n",
            "168:\tlearn: 106.3862999\ttotal: 127ms\tremaining: 23.3ms\n",
            "169:\tlearn: 106.2180807\ttotal: 128ms\tremaining: 22.6ms\n",
            "170:\tlearn: 106.0695603\ttotal: 129ms\tremaining: 21.8ms\n",
            "171:\tlearn: 105.6940213\ttotal: 129ms\tremaining: 21.1ms\n",
            "172:\tlearn: 104.7598987\ttotal: 130ms\tremaining: 20.3ms\n",
            "173:\tlearn: 104.6589992\ttotal: 131ms\tremaining: 19.5ms\n",
            "174:\tlearn: 103.7203657\ttotal: 132ms\tremaining: 18.8ms\n",
            "175:\tlearn: 103.2660987\ttotal: 132ms\tremaining: 18ms\n",
            "176:\tlearn: 103.0926213\ttotal: 133ms\tremaining: 17.3ms\n",
            "177:\tlearn: 102.6925209\ttotal: 134ms\tremaining: 16.6ms\n",
            "178:\tlearn: 102.1655154\ttotal: 135ms\tremaining: 15.8ms\n",
            "179:\tlearn: 101.8273108\ttotal: 135ms\tremaining: 15ms\n",
            "180:\tlearn: 101.7264515\ttotal: 136ms\tremaining: 14.3ms\n",
            "181:\tlearn: 101.1102333\ttotal: 137ms\tremaining: 13.5ms\n",
            "182:\tlearn: 100.7880364\ttotal: 138ms\tremaining: 12.8ms\n",
            "183:\tlearn: 100.6673014\ttotal: 138ms\tremaining: 12ms\n",
            "184:\tlearn: 100.0153055\ttotal: 139ms\tremaining: 11.3ms\n",
            "185:\tlearn: 99.7667281\ttotal: 140ms\tremaining: 10.5ms\n",
            "186:\tlearn: 99.1860593\ttotal: 141ms\tremaining: 9.77ms\n",
            "187:\tlearn: 99.0408133\ttotal: 141ms\tremaining: 9.01ms\n",
            "188:\tlearn: 98.9030718\ttotal: 142ms\tremaining: 8.26ms\n",
            "189:\tlearn: 97.4513860\ttotal: 143ms\tremaining: 7.51ms\n",
            "190:\tlearn: 97.3322959\ttotal: 143ms\tremaining: 6.75ms\n",
            "191:\tlearn: 97.1950848\ttotal: 144ms\tremaining: 6ms\n",
            "192:\tlearn: 96.6789532\ttotal: 145ms\tremaining: 5.25ms\n",
            "193:\tlearn: 96.5506179\ttotal: 146ms\tremaining: 4.5ms\n",
            "194:\tlearn: 95.6635039\ttotal: 146ms\tremaining: 3.75ms\n",
            "195:\tlearn: 94.8850777\ttotal: 147ms\tremaining: 3ms\n",
            "196:\tlearn: 94.1624589\ttotal: 148ms\tremaining: 2.25ms\n",
            "197:\tlearn: 93.8220662\ttotal: 149ms\tremaining: 1.5ms\n",
            "198:\tlearn: 93.7300351\ttotal: 149ms\tremaining: 750us\n",
            "199:\tlearn: 93.3339522\ttotal: 150ms\tremaining: 0us\n"
          ],
          "name": "stdout"
        },
        {
          "output_type": "stream",
          "text": [
            "[Parallel(n_jobs=-1)]: Done  90 out of  90 | elapsed:  2.4min finished\n"
          ],
          "name": "stderr"
        }
      ]
    },
    {
      "cell_type": "code",
      "metadata": {
        "id": "Tz9NqsKEVnaw",
        "colab_type": "code",
        "colab": {
          "base_uri": "https://localhost:8080/",
          "height": 34
        },
        "outputId": "3edadcd5-868b-4759-9a31-ef97627ade8f"
      },
      "source": [
        "catb_cv_model.best_params_"
      ],
      "execution_count": 13,
      "outputs": [
        {
          "output_type": "execute_result",
          "data": {
            "text/plain": [
              "{'depth': 3, 'iterations': 200, 'learning_rate': 0.1}"
            ]
          },
          "metadata": {
            "tags": []
          },
          "execution_count": 13
        }
      ]
    },
    {
      "cell_type": "code",
      "metadata": {
        "id": "--47iApqV2BG",
        "colab_type": "code",
        "colab": {}
      },
      "source": [
        "catb_tuned=CatBoostRegressor(learning_rate=0.1,\n",
        "                                    iterations=200,\n",
        "                                    depth=3).fit(X_train,y_train)"
      ],
      "execution_count": 0,
      "outputs": []
    },
    {
      "cell_type": "code",
      "metadata": {
        "id": "QnEvF9DYV9Fk",
        "colab_type": "code",
        "colab": {
          "base_uri": "https://localhost:8080/",
          "height": 34
        },
        "outputId": "103770d8-d69f-4587-8e0b-3f7f6a2601fc"
      },
      "source": [
        "y_pred=catb_tuned.predict(X_test)\n",
        "np.sqrt(mean_squared_error(y_test,y_pred))"
      ],
      "execution_count": 16,
      "outputs": [
        {
          "output_type": "execute_result",
          "data": {
            "text/plain": [
              "344.3125832615482"
            ]
          },
          "metadata": {
            "tags": []
          },
          "execution_count": 16
        }
      ]
    }
  ]
}